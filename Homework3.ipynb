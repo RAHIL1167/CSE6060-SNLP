{
 "cells": [
  {
   "cell_type": "code",
   "execution_count": 1,
   "metadata": {},
   "outputs": [
    {
     "data": {
      "text/plain": [
       "('arabic',\n",
       " 'danish',\n",
       " 'dutch',\n",
       " 'english',\n",
       " 'finnish',\n",
       " 'french',\n",
       " 'german',\n",
       " 'hungarian',\n",
       " 'italian',\n",
       " 'norwegian',\n",
       " 'porter',\n",
       " 'portuguese',\n",
       " 'romanian',\n",
       " 'russian',\n",
       " 'spanish',\n",
       " 'swedish')"
      ]
     },
     "execution_count": 1,
     "metadata": {},
     "output_type": "execute_result"
    }
   ],
   "source": [
    "import nltk \n",
    "from nltk.stem import SnowballStemmer\n",
    "SnowballStemmer.languages"
   ]
  },
  {
   "cell_type": "code",
   "execution_count": 21,
   "metadata": {},
   "outputs": [
    {
     "data": {
      "text/plain": [
       "'mang'"
      ]
     },
     "execution_count": 21,
     "metadata": {},
     "output_type": "execute_result"
    }
   ],
   "source": [
    "frenchstemmer=SnowballStemmer('french')\n",
    "frenchstemmer.stem('manges')"
   ]
  },
  {
   "cell_type": "code",
   "execution_count": 22,
   "metadata": {},
   "outputs": [
    {
     "data": {
      "text/plain": [
       "'auf wiederseh'"
      ]
     },
     "execution_count": 22,
     "metadata": {},
     "output_type": "execute_result"
    }
   ],
   "source": [
    "germanstemmer=SnowballStemmer('german')\n",
    "germanstemmer.stem('Auf Wiedersehen')"
   ]
  },
  {
   "cell_type": "markdown",
   "metadata": {},
   "source": [
    "Trying with Indian Languages"
   ]
  },
  {
   "cell_type": "code",
   "execution_count": 2,
   "metadata": {},
   "outputs": [
    {
     "data": {
      "text/plain": [
       "['▁तुम्हारा', '▁नाम', '▁क्या', '▁हे', '?']"
      ]
     },
     "execution_count": 2,
     "metadata": {},
     "output_type": "execute_result"
    }
   ],
   "source": [
    "from inltk.inltk import tokenize\n",
    "\n",
    "tokenize('तुम्हारा नाम क्या हे?','hi')"
   ]
  },
  {
   "cell_type": "markdown",
   "metadata": {},
   "source": [
    "Was able to load hindi using INLTK but we can only tokenize"
   ]
  },
  {
   "cell_type": "code",
   "execution_count": 5,
   "metadata": {},
   "outputs": [
    {
     "name": "stdout",
     "output_type": "stream",
     "text": [
      "Downloading Model. This might take time, depending on your internet connection. Please be patient.\n",
      "We'll only do this for the first time.\n",
      "Downloading Model. This might take time, depending on your internet connection. Please be patient.\n",
      "We'll only do this for the first time.\n",
      "Done!\n"
     ]
    },
    {
     "ename": "RuntimeError",
     "evalue": "Cannot close a running event loop",
     "output_type": "error",
     "traceback": [
      "\u001b[1;31m---------------------------------------------------------------------------\u001b[0m",
      "\u001b[1;31mRuntimeError\u001b[0m                              Traceback (most recent call last)",
      "\u001b[1;32m<ipython-input-5-64a63aba52db>\u001b[0m in \u001b[0;36m<module>\u001b[1;34m\u001b[0m\n\u001b[0;32m      2\u001b[0m \u001b[0mnest_asyncio\u001b[0m\u001b[1;33m.\u001b[0m\u001b[0mapply\u001b[0m\u001b[1;33m(\u001b[0m\u001b[1;33m)\u001b[0m\u001b[1;33m\u001b[0m\u001b[1;33m\u001b[0m\u001b[0m\n\u001b[0;32m      3\u001b[0m \u001b[1;32mfrom\u001b[0m \u001b[0minltk\u001b[0m\u001b[1;33m.\u001b[0m\u001b[0minltk\u001b[0m \u001b[1;32mimport\u001b[0m \u001b[0msetup\u001b[0m\u001b[1;33m\u001b[0m\u001b[1;33m\u001b[0m\u001b[0m\n\u001b[1;32m----> 4\u001b[1;33m \u001b[0msetup\u001b[0m\u001b[1;33m(\u001b[0m\u001b[1;34m'ta'\u001b[0m\u001b[1;33m)\u001b[0m\u001b[1;33m\u001b[0m\u001b[1;33m\u001b[0m\u001b[0m\n\u001b[0m",
      "\u001b[1;32m~\\anaconda3\\envs\\tf\\lib\\site-packages\\inltk\\inltk.py\u001b[0m in \u001b[0;36msetup\u001b[1;34m(language_code)\u001b[0m\n\u001b[0;32m     27\u001b[0m     \u001b[0mtasks\u001b[0m \u001b[1;33m=\u001b[0m \u001b[1;33m[\u001b[0m\u001b[0masyncio\u001b[0m\u001b[1;33m.\u001b[0m\u001b[0mensure_future\u001b[0m\u001b[1;33m(\u001b[0m\u001b[0mdownload\u001b[0m\u001b[1;33m(\u001b[0m\u001b[0mlanguage_code\u001b[0m\u001b[1;33m)\u001b[0m\u001b[1;33m)\u001b[0m\u001b[1;33m]\u001b[0m\u001b[1;33m\u001b[0m\u001b[1;33m\u001b[0m\u001b[0m\n\u001b[0;32m     28\u001b[0m     \u001b[0mlearn\u001b[0m \u001b[1;33m=\u001b[0m \u001b[0mloop\u001b[0m\u001b[1;33m.\u001b[0m\u001b[0mrun_until_complete\u001b[0m\u001b[1;33m(\u001b[0m\u001b[0masyncio\u001b[0m\u001b[1;33m.\u001b[0m\u001b[0mgather\u001b[0m\u001b[1;33m(\u001b[0m\u001b[1;33m*\u001b[0m\u001b[0mtasks\u001b[0m\u001b[1;33m)\u001b[0m\u001b[1;33m)\u001b[0m\u001b[1;33m[\u001b[0m\u001b[1;36m0\u001b[0m\u001b[1;33m]\u001b[0m\u001b[1;33m\u001b[0m\u001b[1;33m\u001b[0m\u001b[0m\n\u001b[1;32m---> 29\u001b[1;33m     \u001b[0mloop\u001b[0m\u001b[1;33m.\u001b[0m\u001b[0mclose\u001b[0m\u001b[1;33m(\u001b[0m\u001b[1;33m)\u001b[0m\u001b[1;33m\u001b[0m\u001b[1;33m\u001b[0m\u001b[0m\n\u001b[0m\u001b[0;32m     30\u001b[0m \u001b[1;33m\u001b[0m\u001b[0m\n\u001b[0;32m     31\u001b[0m \u001b[1;33m\u001b[0m\u001b[0m\n",
      "\u001b[1;32m~\\anaconda3\\envs\\tf\\lib\\asyncio\\selector_events.py\u001b[0m in \u001b[0;36mclose\u001b[1;34m(self)\u001b[0m\n\u001b[0;32m     86\u001b[0m     \u001b[1;32mdef\u001b[0m \u001b[0mclose\u001b[0m\u001b[1;33m(\u001b[0m\u001b[0mself\u001b[0m\u001b[1;33m)\u001b[0m\u001b[1;33m:\u001b[0m\u001b[1;33m\u001b[0m\u001b[1;33m\u001b[0m\u001b[0m\n\u001b[0;32m     87\u001b[0m         \u001b[1;32mif\u001b[0m \u001b[0mself\u001b[0m\u001b[1;33m.\u001b[0m\u001b[0mis_running\u001b[0m\u001b[1;33m(\u001b[0m\u001b[1;33m)\u001b[0m\u001b[1;33m:\u001b[0m\u001b[1;33m\u001b[0m\u001b[1;33m\u001b[0m\u001b[0m\n\u001b[1;32m---> 88\u001b[1;33m             \u001b[1;32mraise\u001b[0m \u001b[0mRuntimeError\u001b[0m\u001b[1;33m(\u001b[0m\u001b[1;34m\"Cannot close a running event loop\"\u001b[0m\u001b[1;33m)\u001b[0m\u001b[1;33m\u001b[0m\u001b[1;33m\u001b[0m\u001b[0m\n\u001b[0m\u001b[0;32m     89\u001b[0m         \u001b[1;32mif\u001b[0m \u001b[0mself\u001b[0m\u001b[1;33m.\u001b[0m\u001b[0mis_closed\u001b[0m\u001b[1;33m(\u001b[0m\u001b[1;33m)\u001b[0m\u001b[1;33m:\u001b[0m\u001b[1;33m\u001b[0m\u001b[1;33m\u001b[0m\u001b[0m\n\u001b[0;32m     90\u001b[0m             \u001b[1;32mreturn\u001b[0m\u001b[1;33m\u001b[0m\u001b[1;33m\u001b[0m\u001b[0m\n",
      "\u001b[1;31mRuntimeError\u001b[0m: Cannot close a running event loop"
     ]
    }
   ],
   "source": [
    "import nest_asyncio\n",
    "nest_asyncio.apply()\n",
    "from inltk.inltk import setup\n",
    "setup('ta')"
   ]
  },
  {
   "cell_type": "markdown",
   "metadata": {},
   "source": [
    "# parts of speech tagging for corpus data"
   ]
  },
  {
   "cell_type": "code",
   "execution_count": 3,
   "metadata": {},
   "outputs": [],
   "source": [
    "#Importing the corpus\n",
    "import nltk \n",
    "from nltk.corpus import brown\n"
   ]
  },
  {
   "cell_type": "code",
   "execution_count": 6,
   "metadata": {},
   "outputs": [
    {
     "data": {
      "text/plain": [
       "['ca01',\n",
       " 'ca02',\n",
       " 'ca03',\n",
       " 'ca04',\n",
       " 'ca05',\n",
       " 'ca06',\n",
       " 'ca07',\n",
       " 'ca08',\n",
       " 'ca09',\n",
       " 'ca10',\n",
       " 'ca11',\n",
       " 'ca12',\n",
       " 'ca13',\n",
       " 'ca14',\n",
       " 'ca15',\n",
       " 'ca16',\n",
       " 'ca17',\n",
       " 'ca18',\n",
       " 'ca19',\n",
       " 'ca20',\n",
       " 'ca21',\n",
       " 'ca22',\n",
       " 'ca23',\n",
       " 'ca24',\n",
       " 'ca25',\n",
       " 'ca26',\n",
       " 'ca27',\n",
       " 'ca28',\n",
       " 'ca29',\n",
       " 'ca30',\n",
       " 'ca31',\n",
       " 'ca32',\n",
       " 'ca33',\n",
       " 'ca34',\n",
       " 'ca35',\n",
       " 'ca36',\n",
       " 'ca37',\n",
       " 'ca38',\n",
       " 'ca39',\n",
       " 'ca40',\n",
       " 'ca41',\n",
       " 'ca42',\n",
       " 'ca43',\n",
       " 'ca44',\n",
       " 'cb01',\n",
       " 'cb02',\n",
       " 'cb03',\n",
       " 'cb04',\n",
       " 'cb05',\n",
       " 'cb06']"
      ]
     },
     "execution_count": 6,
     "metadata": {},
     "output_type": "execute_result"
    }
   ],
   "source": [
    "\n",
    "#FIELDS IN BROWN CORPUS\n",
    "brown.fileids()[:50]"
   ]
  },
  {
   "cell_type": "code",
   "execution_count": 7,
   "metadata": {},
   "outputs": [
    {
     "data": {
      "text/plain": [
       "500"
      ]
     },
     "execution_count": 7,
     "metadata": {},
     "output_type": "execute_result"
    }
   ],
   "source": [
    "len(brown.fileids())"
   ]
  },
  {
   "cell_type": "code",
   "execution_count": 9,
   "metadata": {},
   "outputs": [],
   "source": [
    "\n",
    "#selecting ca26\n",
    "text = brown.words('ca26')"
   ]
  },
  {
   "cell_type": "code",
   "execution_count": 10,
   "metadata": {},
   "outputs": [
    {
     "data": {
      "text/plain": [
       "2278"
      ]
     },
     "execution_count": 10,
     "metadata": {},
     "output_type": "execute_result"
    }
   ],
   "source": [
    "len(text)\n"
   ]
  },
  {
   "cell_type": "code",
   "execution_count": 11,
   "metadata": {},
   "outputs": [],
   "source": [
    "fdist = nltk.FreqDist(w.lower() for w in text)"
   ]
  },
  {
   "cell_type": "code",
   "execution_count": 12,
   "metadata": {},
   "outputs": [
    {
     "data": {
      "text/plain": [
       "FreqDist({'the': 135, ',': 104, '.': 97, 'of': 80, 'in': 62, 'and': 61, 'a': 48, 'to': 34, 'dallas': 22, 'that': 20, ...})"
      ]
     },
     "execution_count": 12,
     "metadata": {},
     "output_type": "execute_result"
    }
   ],
   "source": [
    "fdist"
   ]
  },
  {
   "cell_type": "markdown",
   "metadata": {},
   "source": [
    "# conditional frequency distribution \n"
   ]
  },
  {
   "cell_type": "code",
   "execution_count": 13,
   "metadata": {},
   "outputs": [
    {
     "data": {
      "text/plain": [
       "FreqDist({'the': 106, 'and': 59, 'The': 29, 'was': 20, 'for': 19, 'gin': 12, 'Co.': 10, 'all': 9, 'are': 9, 'has': 8, ...})"
      ]
     },
     "execution_count": 13,
     "metadata": {},
     "output_type": "execute_result"
    }
   ],
   "source": [
    "from nltk.probability import ConditionalFreqDist \n",
    "cfd=ConditionalFreqDist((len(word),word) for word in text) \n",
    "cfd[3]"
   ]
  },
  {
   "cell_type": "code",
   "execution_count": 14,
   "metadata": {},
   "outputs": [
    {
     "data": {
      "text/plain": [
       "FreqDist({'stock': 17, 'sales': 9, 'Foods': 8, 'began': 8, 'first': 8, 'firms': 7, 'March': 7, 'issue': 6, 'makes': 6, 'their': 5, ...})"
      ]
     },
     "execution_count": 14,
     "metadata": {},
     "output_type": "execute_result"
    }
   ],
   "source": [
    "cfd[5]\n"
   ]
  },
  {
   "cell_type": "code",
   "execution_count": 16,
   "metadata": {},
   "outputs": [
    {
     "name": "stdout",
     "output_type": "stream",
     "text": [
      "['Probably the hottest thing that has hit the Dallas investment community in years was the Morton Foods stock issue , which was sold to the public during the past week .', 'For many reasons , the demand to buy shares in the Dallas-headquartered company was tremendous .', 'It was not a case of the investment bankers having to sell the stock ; ; it was more one of allotting a few shares to a number of customers and explaining to others why they had no more to sell .', 'Investors who wanted 100 shares in many cases ended up with 25 , and customers who had put in a bid to buy 400 shares found themselves with 100 and counted themselves lucky to get that many .', 'In fact , very few customers , anywhere in the nation , were able to get more than 100 shares .', 'Some Dallas investment firms got only 100 shares , for all of their customers .', 'A measure of how hot the stock was , can be found in what happened to it on the market as soon as trading began .', 'The stock was sold in the underwriting at a price of $12.50 a share .', 'The first over-the-counter trade Wednesday afternoon at Eppler , Guerin & Turner , the managing underwriter , was at $17 a share .', 'And from that the stock moved right on up until it was trading Thursday morning at around $22 a share .', 'But the Morton Foods issue was hot long before it was on the market .', 'Indeed , from the moment the reports of the coming issue first started circulating in Dallas last January , the inquiries and demand for the stock started building up .', 'Letters by the reams came in from investment firms all over the nation , all of them wanting to get a part of the shares that would be sold ( 185,000 to the public at $12.50 , with another 5,000 reserved for Morton Foods employes at $11.50 a share ) .', 'There was even a cable in French from a bank in Switzerland that had somehow learned about the Dallas stock offering .', '`` We subscribe 500 shares of Morton Foods of Texas .', \"Cable confirmation '' , it said translated .\", 'But E.G.T.', 'could not let the Swiss bank have even 10 shares .', 'After it allotted shares to 41 underwriters and 52 selling group members from coast to coast there were not many shares for anyone .', 'But the result of it all was , E.G.T.', 'partner Dean Guerin believes , an effective distribution of the stock to owners all over the nation .', \"`` I feel confident the stock will qualify for the ' national list ' '' , he said , meaning its market price would be quoted regularly in newspapers all over the country .\", 'He was also pleased with the wide distribution because he thought it proved again his argument that Dallas investment men can do just as good a job as the big New York investment bankers claim only they can do .', 'But what made the Morton Foods stock issue such a hot one ?', '?', 'The answer is that it was a combination of circumstances .', 'First , the general stock market has been boiling upward for the last few months , driving stocks of all kinds up .', 'As a result , it is not easy to find a stock priced as the Morton issue was priced ( at roughly 10 times 1960 earnings , to yield a little over 5 per cent on the 64-cent anticipated dividend ) .', \"Second , the `` potato chip industry '' has caught the fancy of investors lately , and until Morton Foods came along there were only two potato chip stocks -- Frito and H. W. Lay -- on the market .\", 'Both of those have had dynamic run-ups in price on the market in recent months , both were selling at higher price-earnings and yield bases than Morton was coming to market at , and everyone who knew anything about it expected the Morton stock to have a fast run-up .', \"And third , the potato chip industry has taken on the flavor of a `` growth '' industry in the public mind of late .\", \"Foods , which long had been considered `` recession resistant '' but hardly dynamic stocks , have been acting like growth stocks , going to higher price-earnings ratios .\", 'The potato chip industry these days is growing , not only as a result of population increase and public acceptance of convenience foods , but also because of a combination of circumstances that has led to growth by merger .', \"The history of the U.S. potato chip industry is that many of today's successful companies got started during the deep depression days .\", 'Those that remain are those that were headed by strong executives , men with the abilities to last almost 30 years in the competitive survival of the fittest .', 'But today many of those men are reaching retirement age and suddenly realizing that they face an estate tax problem with their closely held companies and also that they have no second-echelon management in their firms .', 'So they go looking for mergers with other firms that have publicly quoted stock , and almost daily they pound on the doors of firms like Frito .', 'All those things combined to make the Morton Foods stock the hot issue that it was and is .', \"Now , if Morton's newest product , a corn chip known as Chip-o's , turns out to sell as well as its stock did , the stock may turn out to be worth every cent of the prices that the avid buyers bid it up to .\", 'Dallas and North Texas is known world-wide as the manufacturing and distribution center of cotton gin machinery and supplies , valued in the millions of dollars .', 'More than 10 companies maintain facilities in Dallas and one large manufacturer is located to the north at Sherman .', \"It is no coincidence that the Texas Cotton Ginner's Association is meeting here this week for the 46th time in their 52-year history .\", 'The exhibition of cotton ginning machinery at the State Fair grounds is valued at more than a million dollars .', 'It weighs in the tons , so the proximity of factory and exhibition area makes it possible for an outstanding exhibit each year .', \"A modern cotton gin plant costs in the neighborhood of $250,000 , and it's a safe assumption that a large percentage of new gins in the U.S. and foreign countries contain machinery made in this area .\", 'The Murray Co. of Texas , Inc. , originated in Dallas in 1896 .', \"They've occupied a 22-acre site since the early 1900's .\", \"More than 700 employees make gin machinery that's sold anywhere cotton is grown .\", 'Murray makes a complete line of ginning equipment except for driers and cleaners , and this machinery is purchased from a Dallas-based firm .', 'The Continental Gin Co. began operations in Dallas in 1899 .', 'The present company is a combination of several smaller ones that date back to 1834 .', 'Headquarters is in Birmingham , Ala. .', 'Factories are located here and in Prattville , Ala. .', 'About 40 per cent of the manufacturing is done at the Dallas plant by more than 200 employes .', 'The company sells a complete line of gin machinery all over the cotton-growing world .', 'Hardwicke-Etter Co. of Sherman makes a full line of gin machinery and equipment .', 'The firm recently expanded domestic sales into the Southeastern states as a result of an agreement with Cen-Tennial Gin Co. .', 'They export also .', 'The company began operation in 1900 with hardware and oil mill supplies .', 'In 1930 , they began making cotton processing equipment .', 'Presently , Hardwicke-Etter employs 300-450 people , depending on the season of the year .', 'The Lummus Cotton Gin Co. has had a sales and service office in Dallas since 1912 .', 'Factory operations are in Columbus , Ga. .', 'The district office here employs about 65 .', 'The Moss Gordin Lint Cleaner Co. and Gordin Unit System of Ginning have joint headquarters here .', 'The cleaner equipment firm began operations in 1953 and the unit system , which turns out a complete ginning system , began operations in 1959 .', 'Gordin manufacturing operations are in Lubbock .', 'The John E. Mitchell Co. began work in Dallas in 1928 .', 'The firm is prominent in making equipment for cleaning seed cotton , driers , and heaters , and they lay claim to being the first maker ( 1910 ) of boil extraction equipment .', 'The increase in mechanical harvesting of cotton makes cleaning and drying equipment a must for modern gin operation .', 'Mitchell employs a total of about 400 people .', 'They export cotton ginning machinery .', \"The Hinckley Gin Supply Co. is a maker of `` overhead equipment '' .\", \"This includes driers , cleaners , burr extractors , separators and piping that's located above gin stands in a complete gin .\", 'The firm began operations back in 1925 and sells equipment in the central cotton belt , including the Mississippi Delta .', 'The Cen-Tennial Gin Supply Co. has home offices and factory facilities here .', 'They make gin saws and deal in parts , supplies and some used gin machinery .', 'The Stacy Co. makes cleaning and drying equipment for sale largely in Texas .', \"They've been in Dallas since 1921 .\", 'Cotton Belt Gin Service , Inc. of Dallas makes gin saws and started here 14 years ago .', 'They distribute equipment in 11 states .', 'The firm also handles gin and oil mill supplies such as belting , bearings , etc.', '.', 'Cotton processing equipment is a sizable segment of Dallas business economy .', 'New car sales in Dallas County during March showed slight signs of recovering from the doldrums which have characterized sales this year .', 'Registrations of new cars in Dallas County cracked the 3,000 mark in March for the first time this year .', \"Totaling 3,399 , sales jumped 14 per cent over February's 2,963 .\", 'However , compared with March 1960 new car sales of 4,441 , this March was off 23 per cent .', \"On a quarter-to-quarter comparison , the first quarter of 1961 total of 9,273 cars was 21 per cent behind the previous year's 3-month total of 11,744 .\", 'This year-to-year decline for Dallas County closely follows the national trend -- estimated sales of domestic cars in the U.S. for first three months of 1961 were about 1,212,000 or 80 per cent of the total in the first quarter a year earlier .', 'With the March pickup , dealers are optimistic that the April-June quarter will equal or top last year .', 'The March gain plus this optimism has been encouraging enough to prompt auto makers to boost production schedules for the next quarter .', 'On the local level , compacts continue to grab a larger share of the market at the expense of lower-priced standard models and foreign cars .', 'Only three standard models -- Buick , Chrysler , and Mercury -- had slight year-to-year gains in March sales in the county .', 'The top 3 students from 11 participating Dallas County high schools will be honored by the Dallas Sales Executives Club at a banquet at 6 p.m. Tuesday in the Sam Houston Room of the Sheraton-Dallas Hotel as the club winds up its annual Distributive Education project .', 'Now in its third year , the program is designed to provide a laboratory for those youngsters seeking careers in marketing and salesmanship .', 'Business firms provide 20 weeks of practical employment to supplement classroom instruction in these fields .', 'More than 500 juniors and seniors are taking part in the program and 100 firms offer jobs on an educational rather than a need basis .', 'Principal address will be delivered by Gerald T. Owens , national sales manager for Isodine Pharmical Corp. of New York .', 'The 33 honored students are : Mike Trigg , Raymond Arrington , and Ronald Kaminsky of Bryan Adams , Janice Whitney , Fil Terral , and Carl David Page of W. H. Adamson ; ; Bill Burke , Tommie Freeman , and Lawrence Paschall of N. R. Crozier Tech.', 'Paulah Thompson , Gerald Kestner , and Nancy Stephenson of Hillcrest ; ; Arnold Hayes , Mary Ann Shay , and Lloyd Satterfield of Thomas Jefferson ; ; William Cluck , Deloris Carrel Carty , and Edna Earl Eaton of North Dallas ; ; Patricia Ann Neal , Johnny Carruthers , and David McLauchlin of Rylie of Seagoville ; ; David Wolverton , Sharon Flanagan , and James Weaver of W. W. Samuels ; ; William Austin , Gary Hammond , and Ronnie Davis of South Oak Cliff ; ; Bill Eaton , Carolyn Milton , and Ronnie Bert Stone of Sunset ; ; and Charles Potter , Ronnie Moore , and Robert Bailey of Woodrow Wilson .', \"The Kennedy administration's new housing and urban renewal proposals , particularly their effect on the Federal Housing Administration , came under fire in Dallas last week .\", \"The Administration's proposals , complex and sweeping as they are , all deal with fringe areas of the housing market rather than its core , stated Caron S. Stallard , first vice-president of the Mortgage Bankers Association of America .\"]\n"
     ]
    }
   ],
   "source": [
    "#1)converting list to string and tokenizing sentences\n",
    "from nltk.tokenize import sent_tokenize\n",
    "#converting list to single string str\n",
    "str=\" \".join(text)\n",
    "words=sent_tokenize(str)\n",
    "print(words)"
   ]
  },
  {
   "cell_type": "code",
   "execution_count": 18,
   "metadata": {},
   "outputs": [
    {
     "name": "stdout",
     "output_type": "stream",
     "text": [
      "[('Probably', 'RB'), ('the', 'DT'), ('hottest', 'JJS'), ('thing', 'NN'), ('that', 'WDT'), ('has', 'VBZ'), ('hit', 'VBN'), ('the', 'DT'), ('Dallas', 'NNP'), ('investment', 'NN'), ('community', 'NN'), ('in', 'IN'), ('years', 'NNS'), ('was', 'VBD'), ('the', 'DT'), ('Morton', 'NNP'), ('Foods', 'NNP'), ('stock', 'NN'), ('issue', 'NN'), (',', ','), ('which', 'WDT'), ('was', 'VBD'), ('sold', 'VBN'), ('to', 'TO'), ('the', 'DT'), ('public', 'NN'), ('during', 'IN'), ('the', 'DT'), ('past', 'JJ'), ('week', 'NN'), ('.', '.')]\n",
      "[('For', 'IN'), ('many', 'JJ'), ('reasons', 'NNS'), (',', ','), ('the', 'DT'), ('demand', 'NN'), ('to', 'TO'), ('buy', 'VB'), ('shares', 'NNS'), ('in', 'IN'), ('the', 'DT'), ('Dallas-headquartered', 'JJ'), ('company', 'NN'), ('was', 'VBD'), ('tremendous', 'JJ'), ('.', '.')]\n",
      "[('It', 'PRP'), ('was', 'VBD'), ('not', 'RB'), ('a', 'DT'), ('case', 'NN'), ('of', 'IN'), ('the', 'DT'), ('investment', 'NN'), ('bankers', 'NNS'), ('having', 'VBG'), ('to', 'TO'), ('sell', 'VB'), ('the', 'DT'), ('stock', 'NN'), (';', ':'), (';', ':'), ('it', 'PRP'), ('was', 'VBD'), ('more', 'RBR'), ('one', 'CD'), ('of', 'IN'), ('allotting', 'VBG'), ('a', 'DT'), ('few', 'JJ'), ('shares', 'NNS'), ('to', 'TO'), ('a', 'DT'), ('number', 'NN'), ('of', 'IN'), ('customers', 'NNS'), ('and', 'CC'), ('explaining', 'VBG'), ('to', 'TO'), ('others', 'NNS'), ('why', 'WRB'), ('they', 'PRP'), ('had', 'VBD'), ('no', 'DT'), ('more', 'RBR'), ('to', 'TO'), ('sell', 'VB'), ('.', '.')]\n",
      "[('Investors', 'NNS'), ('who', 'WP'), ('wanted', 'VBD'), ('100', 'CD'), ('shares', 'NNS'), ('in', 'IN'), ('many', 'JJ'), ('cases', 'NNS'), ('ended', 'VBD'), ('up', 'RB'), ('with', 'IN'), ('25', 'CD'), (',', ','), ('and', 'CC'), ('customers', 'NNS'), ('who', 'WP'), ('had', 'VBD'), ('put', 'VBN'), ('in', 'IN'), ('a', 'DT'), ('bid', 'NN'), ('to', 'TO'), ('buy', 'VB'), ('400', 'CD'), ('shares', 'NNS'), ('found', 'VBD'), ('themselves', 'PRP'), ('with', 'IN'), ('100', 'CD'), ('and', 'CC'), ('counted', 'VBD'), ('themselves', 'PRP'), ('lucky', 'VBP'), ('to', 'TO'), ('get', 'VB'), ('that', 'DT'), ('many', 'JJ'), ('.', '.')]\n",
      "[('In', 'IN'), ('fact', 'NN'), (',', ','), ('very', 'RB'), ('few', 'JJ'), ('customers', 'NNS'), (',', ','), ('anywhere', 'RB'), ('in', 'IN'), ('the', 'DT'), ('nation', 'NN'), (',', ','), ('were', 'VBD'), ('able', 'JJ'), ('to', 'TO'), ('get', 'VB'), ('more', 'JJR'), ('than', 'IN'), ('100', 'CD'), ('shares', 'NNS'), ('.', '.')]\n",
      "[('Some', 'DT'), ('Dallas', 'NNP'), ('investment', 'NN'), ('firms', 'NNS'), ('got', 'VBD'), ('only', 'RB'), ('100', 'CD'), ('shares', 'NNS'), (',', ','), ('for', 'IN'), ('all', 'DT'), ('of', 'IN'), ('their', 'PRP$'), ('customers', 'NNS'), ('.', '.')]\n",
      "[('A', 'DT'), ('measure', 'NN'), ('of', 'IN'), ('how', 'WRB'), ('hot', 'JJ'), ('the', 'DT'), ('stock', 'NN'), ('was', 'VBD'), (',', ','), ('can', 'MD'), ('be', 'VB'), ('found', 'VBN'), ('in', 'IN'), ('what', 'WP'), ('happened', 'VBD'), ('to', 'TO'), ('it', 'PRP'), ('on', 'IN'), ('the', 'DT'), ('market', 'NN'), ('as', 'RB'), ('soon', 'RB'), ('as', 'IN'), ('trading', 'NN'), ('began', 'VBD'), ('.', '.')]\n",
      "[('The', 'DT'), ('stock', 'NN'), ('was', 'VBD'), ('sold', 'VBN'), ('in', 'IN'), ('the', 'DT'), ('underwriting', 'NN'), ('at', 'IN'), ('a', 'DT'), ('price', 'NN'), ('of', 'IN'), ('$', '$'), ('12.50', 'CD'), ('a', 'DT'), ('share', 'NN'), ('.', '.')]\n",
      "[('The', 'DT'), ('first', 'JJ'), ('over-the-counter', 'JJ'), ('trade', 'NN'), ('Wednesday', 'NNP'), ('afternoon', 'NN'), ('at', 'IN'), ('Eppler', 'NNP'), (',', ','), ('Guerin', 'NNP'), ('&', 'CC'), ('Turner', 'NNP'), (',', ','), ('the', 'DT'), ('managing', 'VBG'), ('underwriter', 'NN'), (',', ','), ('was', 'VBD'), ('at', 'IN'), ('$', '$'), ('17', 'CD'), ('a', 'DT'), ('share', 'NN'), ('.', '.')]\n",
      "[('And', 'CC'), ('from', 'IN'), ('that', 'IN'), ('the', 'DT'), ('stock', 'NN'), ('moved', 'VBD'), ('right', 'RB'), ('on', 'IN'), ('up', 'IN'), ('until', 'IN'), ('it', 'PRP'), ('was', 'VBD'), ('trading', 'VBG'), ('Thursday', 'NNP'), ('morning', 'NN'), ('at', 'IN'), ('around', 'IN'), ('$', '$'), ('22', 'CD'), ('a', 'DT'), ('share', 'NN'), ('.', '.')]\n",
      "[('But', 'CC'), ('the', 'DT'), ('Morton', 'NNP'), ('Foods', 'NNP'), ('issue', 'NN'), ('was', 'VBD'), ('hot', 'JJ'), ('long', 'RB'), ('before', 'IN'), ('it', 'PRP'), ('was', 'VBD'), ('on', 'IN'), ('the', 'DT'), ('market', 'NN'), ('.', '.')]\n",
      "[('Indeed', 'RB'), (',', ','), ('from', 'IN'), ('the', 'DT'), ('moment', 'NN'), ('the', 'DT'), ('reports', 'NNS'), ('of', 'IN'), ('the', 'DT'), ('coming', 'VBG'), ('issue', 'NN'), ('first', 'RB'), ('started', 'VBD'), ('circulating', 'VBG'), ('in', 'IN'), ('Dallas', 'NNP'), ('last', 'JJ'), ('January', 'NNP'), (',', ','), ('the', 'DT'), ('inquiries', 'NNS'), ('and', 'CC'), ('demand', 'NN'), ('for', 'IN'), ('the', 'DT'), ('stock', 'NN'), ('started', 'VBD'), ('building', 'VBG'), ('up', 'RP'), ('.', '.')]\n",
      "[('Letters', 'NNS'), ('by', 'IN'), ('the', 'DT'), ('reams', 'NNS'), ('came', 'VBD'), ('in', 'IN'), ('from', 'IN'), ('investment', 'NN'), ('firms', 'NNS'), ('all', 'DT'), ('over', 'IN'), ('the', 'DT'), ('nation', 'NN'), (',', ','), ('all', 'DT'), ('of', 'IN'), ('them', 'PRP'), ('wanting', 'VBG'), ('to', 'TO'), ('get', 'VB'), ('a', 'DT'), ('part', 'NN'), ('of', 'IN'), ('the', 'DT'), ('shares', 'NNS'), ('that', 'WDT'), ('would', 'MD'), ('be', 'VB'), ('sold', 'VBN'), ('(', '('), ('185,000', 'CD'), ('to', 'TO'), ('the', 'DT'), ('public', 'NN'), ('at', 'IN'), ('$', '$'), ('12.50', 'CD'), (',', ','), ('with', 'IN'), ('another', 'DT'), ('5,000', 'CD'), ('reserved', 'VBN'), ('for', 'IN'), ('Morton', 'NNP'), ('Foods', 'NNP'), ('employes', 'VBZ'), ('at', 'IN'), ('$', '$'), ('11.50', 'CD'), ('a', 'DT'), ('share', 'NN'), (')', ')'), ('.', '.')]\n",
      "[('There', 'EX'), ('was', 'VBD'), ('even', 'RB'), ('a', 'DT'), ('cable', 'NN'), ('in', 'IN'), ('French', 'JJ'), ('from', 'IN'), ('a', 'DT'), ('bank', 'NN'), ('in', 'IN'), ('Switzerland', 'NNP'), ('that', 'WDT'), ('had', 'VBD'), ('somehow', 'RB'), ('learned', 'VBN'), ('about', 'IN'), ('the', 'DT'), ('Dallas', 'NNP'), ('stock', 'NN'), ('offering', 'NN'), ('.', '.')]\n",
      "[('``', '``'), ('We', 'PRP'), ('subscribe', 'VBP'), ('500', 'CD'), ('shares', 'NNS'), ('of', 'IN'), ('Morton', 'NNP'), ('Foods', 'NNP'), ('of', 'IN'), ('Texas', 'NNP'), ('.', '.')]\n",
      "[('Cable', 'JJ'), ('confirmation', 'NN'), ('``', '``'), (',', ','), ('it', 'PRP'), ('said', 'VBD'), ('translated', 'VBN'), ('.', '.')]\n",
      "[('But', 'CC'), ('E.G.T', 'NNP'), ('.', '.')]\n",
      "[('could', 'MD'), ('not', 'RB'), ('let', 'VB'), ('the', 'DT'), ('Swiss', 'NNP'), ('bank', 'NN'), ('have', 'VBP'), ('even', 'RB'), ('10', 'CD'), ('shares', 'NNS'), ('.', '.')]\n",
      "[('After', 'IN'), ('it', 'PRP'), ('allotted', 'VBD'), ('shares', 'NNS'), ('to', 'TO'), ('41', 'CD'), ('underwriters', 'NNS'), ('and', 'CC'), ('52', 'CD'), ('selling', 'VBG'), ('group', 'NN'), ('members', 'NNS'), ('from', 'IN'), ('coast', 'NN'), ('to', 'TO'), ('coast', 'VB'), ('there', 'EX'), ('were', 'VBD'), ('not', 'RB'), ('many', 'JJ'), ('shares', 'NNS'), ('for', 'IN'), ('anyone', 'NN'), ('.', '.')]\n",
      "[('But', 'CC'), ('the', 'DT'), ('result', 'NN'), ('of', 'IN'), ('it', 'PRP'), ('all', 'DT'), ('was', 'VBD'), (',', ','), ('E.G.T', 'NNP'), ('.', '.')]\n",
      "[('partner', 'NN'), ('Dean', 'NNP'), ('Guerin', 'NNP'), ('believes', 'VBZ'), (',', ','), ('an', 'DT'), ('effective', 'JJ'), ('distribution', 'NN'), ('of', 'IN'), ('the', 'DT'), ('stock', 'NN'), ('to', 'TO'), ('owners', 'NNS'), ('all', 'DT'), ('over', 'IN'), ('the', 'DT'), ('nation', 'NN'), ('.', '.')]\n",
      "[('``', '``'), ('I', 'PRP'), ('feel', 'VBP'), ('confident', 'JJ'), ('the', 'DT'), ('stock', 'NN'), ('will', 'MD'), ('qualify', 'VB'), ('for', 'IN'), ('the', 'DT'), (\"'\", 'POS'), ('national', 'JJ'), ('list', 'NN'), (\"'\", \"''\"), ('``', '``'), (',', ','), ('he', 'PRP'), ('said', 'VBD'), (',', ','), ('meaning', 'VBG'), ('its', 'PRP$'), ('market', 'NN'), ('price', 'NN'), ('would', 'MD'), ('be', 'VB'), ('quoted', 'VBN'), ('regularly', 'RB'), ('in', 'IN'), ('newspapers', 'NNS'), ('all', 'DT'), ('over', 'IN'), ('the', 'DT'), ('country', 'NN'), ('.', '.')]\n",
      "[('He', 'PRP'), ('was', 'VBD'), ('also', 'RB'), ('pleased', 'JJ'), ('with', 'IN'), ('the', 'DT'), ('wide', 'JJ'), ('distribution', 'NN'), ('because', 'IN'), ('he', 'PRP'), ('thought', 'VBD'), ('it', 'PRP'), ('proved', 'VBD'), ('again', 'RB'), ('his', 'PRP$'), ('argument', 'NN'), ('that', 'IN'), ('Dallas', 'NNP'), ('investment', 'NN'), ('men', 'NNS'), ('can', 'MD'), ('do', 'VB'), ('just', 'RB'), ('as', 'RB'), ('good', 'JJ'), ('a', 'DT'), ('job', 'NN'), ('as', 'IN'), ('the', 'DT'), ('big', 'JJ'), ('New', 'NNP'), ('York', 'NNP'), ('investment', 'NN'), ('bankers', 'NNS'), ('claim', 'VBP'), ('only', 'RB'), ('they', 'PRP'), ('can', 'MD'), ('do', 'VB'), ('.', '.')]\n",
      "[('But', 'CC'), ('what', 'WP'), ('made', 'VBD'), ('the', 'DT'), ('Morton', 'NNP'), ('Foods', 'NNP'), ('stock', 'NN'), ('issue', 'NN'), ('such', 'PDT'), ('a', 'DT'), ('hot', 'JJ'), ('one', 'CD'), ('?', '.')]\n",
      "[('?', '.')]\n",
      "[('The', 'DT'), ('answer', 'NN'), ('is', 'VBZ'), ('that', 'IN'), ('it', 'PRP'), ('was', 'VBD'), ('a', 'DT'), ('combination', 'NN'), ('of', 'IN'), ('circumstances', 'NNS'), ('.', '.')]\n",
      "[('First', 'RB'), (',', ','), ('the', 'DT'), ('general', 'JJ'), ('stock', 'NN'), ('market', 'NN'), ('has', 'VBZ'), ('been', 'VBN'), ('boiling', 'VBG'), ('upward', 'RB'), ('for', 'IN'), ('the', 'DT'), ('last', 'JJ'), ('few', 'JJ'), ('months', 'NNS'), (',', ','), ('driving', 'VBG'), ('stocks', 'NNS'), ('of', 'IN'), ('all', 'DT'), ('kinds', 'NNS'), ('up', 'RP'), ('.', '.')]\n",
      "[('As', 'IN'), ('a', 'DT'), ('result', 'NN'), (',', ','), ('it', 'PRP'), ('is', 'VBZ'), ('not', 'RB'), ('easy', 'JJ'), ('to', 'TO'), ('find', 'VB'), ('a', 'DT'), ('stock', 'NN'), ('priced', 'VBN'), ('as', 'IN'), ('the', 'DT'), ('Morton', 'NNP'), ('issue', 'NN'), ('was', 'VBD'), ('priced', 'VBN'), ('(', '('), ('at', 'IN'), ('roughly', 'RB'), ('10', 'CD'), ('times', 'NNS'), ('1960', 'CD'), ('earnings', 'NNS'), (',', ','), ('to', 'TO'), ('yield', 'VB'), ('a', 'DT'), ('little', 'JJ'), ('over', 'IN'), ('5', 'CD'), ('per', 'IN'), ('cent', 'NN'), ('on', 'IN'), ('the', 'DT'), ('64-cent', 'JJ'), ('anticipated', 'JJ'), ('dividend', 'NN'), (')', ')'), ('.', '.')]\n",
      "[('Second', 'JJ'), (',', ','), ('the', 'DT'), ('``', '``'), ('potato', 'JJ'), ('chip', 'NN'), ('industry', 'NN'), ('``', '``'), ('has', 'VBZ'), ('caught', 'VBN'), ('the', 'DT'), ('fancy', 'NN'), ('of', 'IN'), ('investors', 'NNS'), ('lately', 'RB'), (',', ','), ('and', 'CC'), ('until', 'IN'), ('Morton', 'NNP'), ('Foods', 'NNPS'), ('came', 'VBD'), ('along', 'RB'), ('there', 'EX'), ('were', 'VBD'), ('only', 'RB'), ('two', 'CD'), ('potato', 'JJ'), ('chip', 'NN'), ('stocks', 'NNS'), ('--', ':'), ('Frito', 'NNP'), ('and', 'CC'), ('H.', 'NNP'), ('W.', 'NNP'), ('Lay', 'NNP'), ('--', ':'), ('on', 'IN'), ('the', 'DT'), ('market', 'NN'), ('.', '.')]\n",
      "[('Both', 'DT'), ('of', 'IN'), ('those', 'DT'), ('have', 'VBP'), ('had', 'VBN'), ('dynamic', 'JJ'), ('run-ups', 'NNS'), ('in', 'IN'), ('price', 'NN'), ('on', 'IN'), ('the', 'DT'), ('market', 'NN'), ('in', 'IN'), ('recent', 'JJ'), ('months', 'NNS'), (',', ','), ('both', 'DT'), ('were', 'VBD'), ('selling', 'VBG'), ('at', 'IN'), ('higher', 'JJR'), ('price-earnings', 'NNS'), ('and', 'CC'), ('yield', 'NN'), ('bases', 'NNS'), ('than', 'IN'), ('Morton', 'NNP'), ('was', 'VBD'), ('coming', 'VBG'), ('to', 'TO'), ('market', 'NN'), ('at', 'IN'), (',', ','), ('and', 'CC'), ('everyone', 'NN'), ('who', 'WP'), ('knew', 'VBD'), ('anything', 'NN'), ('about', 'IN'), ('it', 'PRP'), ('expected', 'VBD'), ('the', 'DT'), ('Morton', 'NNP'), ('stock', 'NN'), ('to', 'TO'), ('have', 'VB'), ('a', 'DT'), ('fast', 'JJ'), ('run-up', 'NN'), ('.', '.')]\n",
      "[('And', 'CC'), ('third', 'JJ'), (',', ','), ('the', 'DT'), ('potato', 'NN'), ('chip', 'NN'), ('industry', 'NN'), ('has', 'VBZ'), ('taken', 'VBN'), ('on', 'IN'), ('the', 'DT'), ('flavor', 'NN'), ('of', 'IN'), ('a', 'DT'), ('``', '``'), ('growth', 'NN'), ('``', '``'), ('industry', 'NN'), ('in', 'IN'), ('the', 'DT'), ('public', 'JJ'), ('mind', 'NN'), ('of', 'IN'), ('late', 'JJ'), ('.', '.')]\n",
      "[('Foods', 'NNS'), (',', ','), ('which', 'WDT'), ('long', 'RB'), ('had', 'VBD'), ('been', 'VBN'), ('considered', 'VBN'), ('``', '``'), ('recession', 'NN'), ('resistant', 'JJ'), ('``', '``'), ('but', 'CC'), ('hardly', 'RB'), ('dynamic', 'JJ'), ('stocks', 'NNS'), (',', ','), ('have', 'VBP'), ('been', 'VBN'), ('acting', 'VBG'), ('like', 'IN'), ('growth', 'NN'), ('stocks', 'NNS'), (',', ','), ('going', 'VBG'), ('to', 'TO'), ('higher', 'JJR'), ('price-earnings', 'JJ'), ('ratios', 'NNS'), ('.', '.')]\n",
      "[('The', 'DT'), ('potato', 'NN'), ('chip', 'NN'), ('industry', 'NN'), ('these', 'DT'), ('days', 'NNS'), ('is', 'VBZ'), ('growing', 'VBG'), (',', ','), ('not', 'RB'), ('only', 'RB'), ('as', 'IN'), ('a', 'DT'), ('result', 'NN'), ('of', 'IN'), ('population', 'NN'), ('increase', 'NN'), ('and', 'CC'), ('public', 'JJ'), ('acceptance', 'NN'), ('of', 'IN'), ('convenience', 'NN'), ('foods', 'NNS'), (',', ','), ('but', 'CC'), ('also', 'RB'), ('because', 'IN'), ('of', 'IN'), ('a', 'DT'), ('combination', 'NN'), ('of', 'IN'), ('circumstances', 'NNS'), ('that', 'WDT'), ('has', 'VBZ'), ('led', 'VBN'), ('to', 'TO'), ('growth', 'NN'), ('by', 'IN'), ('merger', 'NN'), ('.', '.')]\n",
      "[('The', 'DT'), ('history', 'NN'), ('of', 'IN'), ('the', 'DT'), ('U.S.', 'NNP'), ('potato', 'NN'), ('chip', 'NN'), ('industry', 'NN'), ('is', 'VBZ'), ('that', 'IN'), ('many', 'JJ'), ('of', 'IN'), ('today', 'NN'), (\"'s\", 'POS'), ('successful', 'JJ'), ('companies', 'NNS'), ('got', 'VBD'), ('started', 'VBN'), ('during', 'IN'), ('the', 'DT'), ('deep', 'JJ'), ('depression', 'NN'), ('days', 'NNS'), ('.', '.')]\n",
      "[('Those', 'DT'), ('that', 'IN'), ('remain', 'VBP'), ('are', 'VBP'), ('those', 'DT'), ('that', 'WDT'), ('were', 'VBD'), ('headed', 'VBN'), ('by', 'IN'), ('strong', 'JJ'), ('executives', 'NNS'), (',', ','), ('men', 'NNS'), ('with', 'IN'), ('the', 'DT'), ('abilities', 'NNS'), ('to', 'TO'), ('last', 'JJ'), ('almost', 'RB'), ('30', 'CD'), ('years', 'NNS'), ('in', 'IN'), ('the', 'DT'), ('competitive', 'JJ'), ('survival', 'NN'), ('of', 'IN'), ('the', 'DT'), ('fittest', 'JJS'), ('.', '.')]\n",
      "[('But', 'CC'), ('today', 'NN'), ('many', 'JJ'), ('of', 'IN'), ('those', 'DT'), ('men', 'NNS'), ('are', 'VBP'), ('reaching', 'VBG'), ('retirement', 'NN'), ('age', 'NN'), ('and', 'CC'), ('suddenly', 'RB'), ('realizing', 'VBG'), ('that', 'IN'), ('they', 'PRP'), ('face', 'VBP'), ('an', 'DT'), ('estate', 'NN'), ('tax', 'NN'), ('problem', 'NN'), ('with', 'IN'), ('their', 'PRP$'), ('closely', 'RB'), ('held', 'VBN'), ('companies', 'NNS'), ('and', 'CC'), ('also', 'RB'), ('that', 'IN'), ('they', 'PRP'), ('have', 'VBP'), ('no', 'DT'), ('second-echelon', 'JJ'), ('management', 'NN'), ('in', 'IN'), ('their', 'PRP$'), ('firms', 'NNS'), ('.', '.')]\n",
      "[('So', 'RB'), ('they', 'PRP'), ('go', 'VBP'), ('looking', 'VBG'), ('for', 'IN'), ('mergers', 'NNS'), ('with', 'IN'), ('other', 'JJ'), ('firms', 'NNS'), ('that', 'WDT'), ('have', 'VBP'), ('publicly', 'RB'), ('quoted', 'VBN'), ('stock', 'NN'), (',', ','), ('and', 'CC'), ('almost', 'RB'), ('daily', 'JJ'), ('they', 'PRP'), ('pound', 'NN'), ('on', 'IN'), ('the', 'DT'), ('doors', 'NNS'), ('of', 'IN'), ('firms', 'NNS'), ('like', 'IN'), ('Frito', 'NNP'), ('.', '.')]\n",
      "[('All', 'PDT'), ('those', 'DT'), ('things', 'NNS'), ('combined', 'VBN'), ('to', 'TO'), ('make', 'VB'), ('the', 'DT'), ('Morton', 'NNP'), ('Foods', 'NNP'), ('stock', 'NN'), ('the', 'DT'), ('hot', 'JJ'), ('issue', 'NN'), ('that', 'IN'), ('it', 'PRP'), ('was', 'VBD'), ('and', 'CC'), ('is', 'VBZ'), ('.', '.')]\n",
      "[('Now', 'RB'), (',', ','), ('if', 'IN'), ('Morton', 'NNP'), (\"'s\", 'POS'), ('newest', 'JJS'), ('product', 'NN'), (',', ','), ('a', 'DT'), ('corn', 'NN'), ('chip', 'NN'), ('known', 'VBN'), ('as', 'IN'), ('Chip-o', 'NNP'), (\"'s\", 'POS'), (',', ','), ('turns', 'VBZ'), ('out', 'RP'), ('to', 'TO'), ('sell', 'VB'), ('as', 'RB'), ('well', 'RB'), ('as', 'IN'), ('its', 'PRP$'), ('stock', 'NN'), ('did', 'VBD'), (',', ','), ('the', 'DT'), ('stock', 'NN'), ('may', 'MD'), ('turn', 'VB'), ('out', 'RP'), ('to', 'TO'), ('be', 'VB'), ('worth', 'JJ'), ('every', 'DT'), ('cent', 'NN'), ('of', 'IN'), ('the', 'DT'), ('prices', 'NNS'), ('that', 'IN'), ('the', 'DT'), ('avid', 'JJ'), ('buyers', 'NNS'), ('bid', 'VBD'), ('it', 'PRP'), ('up', 'RP'), ('to', 'TO'), ('.', '.')]\n",
      "[('Dallas', 'NNP'), ('and', 'CC'), ('North', 'NNP'), ('Texas', 'NNP'), ('is', 'VBZ'), ('known', 'VBN'), ('world-wide', 'JJ'), ('as', 'IN'), ('the', 'DT'), ('manufacturing', 'NN'), ('and', 'CC'), ('distribution', 'NN'), ('center', 'NN'), ('of', 'IN'), ('cotton', 'NN'), ('gin', 'NN'), ('machinery', 'NN'), ('and', 'CC'), ('supplies', 'NNS'), (',', ','), ('valued', 'VBN'), ('in', 'IN'), ('the', 'DT'), ('millions', 'NNS'), ('of', 'IN'), ('dollars', 'NNS'), ('.', '.')]\n",
      "[('More', 'JJR'), ('than', 'IN'), ('10', 'CD'), ('companies', 'NNS'), ('maintain', 'VBP'), ('facilities', 'NNS'), ('in', 'IN'), ('Dallas', 'NNP'), ('and', 'CC'), ('one', 'CD'), ('large', 'JJ'), ('manufacturer', 'NN'), ('is', 'VBZ'), ('located', 'VBN'), ('to', 'TO'), ('the', 'DT'), ('north', 'NN'), ('at', 'IN'), ('Sherman', 'NNP'), ('.', '.')]\n",
      "[('It', 'PRP'), ('is', 'VBZ'), ('no', 'DT'), ('coincidence', 'NN'), ('that', 'IN'), ('the', 'DT'), ('Texas', 'NNP'), ('Cotton', 'NNP'), ('Ginner', 'NNP'), (\"'s\", 'POS'), ('Association', 'NNP'), ('is', 'VBZ'), ('meeting', 'VBG'), ('here', 'RB'), ('this', 'DT'), ('week', 'NN'), ('for', 'IN'), ('the', 'DT'), ('46th', 'CD'), ('time', 'NN'), ('in', 'IN'), ('their', 'PRP$'), ('52-year', 'JJ'), ('history', 'NN'), ('.', '.')]\n",
      "[('The', 'DT'), ('exhibition', 'NN'), ('of', 'IN'), ('cotton', 'NN'), ('ginning', 'VBG'), ('machinery', 'NN'), ('at', 'IN'), ('the', 'DT'), ('State', 'NNP'), ('Fair', 'NNP'), ('grounds', 'NNS'), ('is', 'VBZ'), ('valued', 'VBN'), ('at', 'IN'), ('more', 'JJR'), ('than', 'IN'), ('a', 'DT'), ('million', 'CD'), ('dollars', 'NNS'), ('.', '.')]\n",
      "[('It', 'PRP'), ('weighs', 'VBZ'), ('in', 'IN'), ('the', 'DT'), ('tons', 'NNS'), (',', ','), ('so', 'IN'), ('the', 'DT'), ('proximity', 'NN'), ('of', 'IN'), ('factory', 'NN'), ('and', 'CC'), ('exhibition', 'NN'), ('area', 'NN'), ('makes', 'VBZ'), ('it', 'PRP'), ('possible', 'JJ'), ('for', 'IN'), ('an', 'DT'), ('outstanding', 'JJ'), ('exhibit', 'NN'), ('each', 'DT'), ('year', 'NN'), ('.', '.')]\n",
      "[('A', 'DT'), ('modern', 'JJ'), ('cotton', 'NN'), ('gin', 'NN'), ('plant', 'NN'), ('costs', 'NNS'), ('in', 'IN'), ('the', 'DT'), ('neighborhood', 'NN'), ('of', 'IN'), ('$', '$'), ('250,000', 'CD'), (',', ','), ('and', 'CC'), ('it', 'PRP'), (\"'s\", 'VBZ'), ('a', 'DT'), ('safe', 'JJ'), ('assumption', 'NN'), ('that', 'IN'), ('a', 'DT'), ('large', 'JJ'), ('percentage', 'NN'), ('of', 'IN'), ('new', 'JJ'), ('gins', 'NNS'), ('in', 'IN'), ('the', 'DT'), ('U.S.', 'NNP'), ('and', 'CC'), ('foreign', 'JJ'), ('countries', 'NNS'), ('contain', 'VBP'), ('machinery', 'NN'), ('made', 'VBN'), ('in', 'IN'), ('this', 'DT'), ('area', 'NN'), ('.', '.')]\n",
      "[('The', 'DT'), ('Murray', 'NNP'), ('Co.', 'NNP'), ('of', 'IN'), ('Texas', 'NNP'), (',', ','), ('Inc.', 'NNP'), (',', ','), ('originated', 'VBN'), ('in', 'IN'), ('Dallas', 'NNP'), ('in', 'IN'), ('1896', 'CD'), ('.', '.')]\n",
      "[('They', 'PRP'), (\"'ve\", 'VBP'), ('occupied', 'VBN'), ('a', 'DT'), ('22-acre', 'JJ'), ('site', 'NN'), ('since', 'IN'), ('the', 'DT'), ('early', 'JJ'), ('1900', 'CD'), (\"'s\", 'POS'), ('.', '.')]\n",
      "[('More', 'JJR'), ('than', 'IN'), ('700', 'CD'), ('employees', 'NNS'), ('make', 'VBP'), ('gin', 'JJ'), ('machinery', 'NN'), ('that', 'WDT'), (\"'s\", 'VBZ'), ('sold', 'VBN'), ('anywhere', 'RB'), ('cotton', 'NN'), ('is', 'VBZ'), ('grown', 'VBN'), ('.', '.')]\n",
      "[('Murray', 'NNP'), ('makes', 'VBZ'), ('a', 'DT'), ('complete', 'JJ'), ('line', 'NN'), ('of', 'IN'), ('ginning', 'VBG'), ('equipment', 'NN'), ('except', 'IN'), ('for', 'IN'), ('driers', 'NNS'), ('and', 'CC'), ('cleaners', 'NNS'), (',', ','), ('and', 'CC'), ('this', 'DT'), ('machinery', 'NN'), ('is', 'VBZ'), ('purchased', 'VBN'), ('from', 'IN'), ('a', 'DT'), ('Dallas-based', 'JJ'), ('firm', 'NN'), ('.', '.')]\n",
      "[('The', 'DT'), ('Continental', 'NNP'), ('Gin', 'NNP'), ('Co.', 'NNP'), ('began', 'VBD'), ('operations', 'NNS'), ('in', 'IN'), ('Dallas', 'NNP'), ('in', 'IN'), ('1899', 'CD'), ('.', '.')]\n",
      "[('The', 'DT'), ('present', 'JJ'), ('company', 'NN'), ('is', 'VBZ'), ('a', 'DT'), ('combination', 'NN'), ('of', 'IN'), ('several', 'JJ'), ('smaller', 'JJR'), ('ones', 'NNS'), ('that', 'WDT'), ('date', 'NN'), ('back', 'RB'), ('to', 'TO'), ('1834', 'CD'), ('.', '.')]\n",
      "[('Headquarters', 'NNP'), ('is', 'VBZ'), ('in', 'IN'), ('Birmingham', 'NNP'), (',', ','), ('Ala.', 'NNP'), ('.', '.')]\n",
      "[('Factories', 'NNS'), ('are', 'VBP'), ('located', 'VBN'), ('here', 'RB'), ('and', 'CC'), ('in', 'IN'), ('Prattville', 'NNP'), (',', ','), ('Ala.', 'NNP'), ('.', '.')]\n",
      "[('About', 'IN'), ('40', 'CD'), ('per', 'IN'), ('cent', 'NN'), ('of', 'IN'), ('the', 'DT'), ('manufacturing', 'NN'), ('is', 'VBZ'), ('done', 'VBN'), ('at', 'IN'), ('the', 'DT'), ('Dallas', 'NNP'), ('plant', 'NN'), ('by', 'IN'), ('more', 'JJR'), ('than', 'IN'), ('200', 'CD'), ('employes', 'NNS'), ('.', '.')]\n",
      "[('The', 'DT'), ('company', 'NN'), ('sells', 'VBZ'), ('a', 'DT'), ('complete', 'JJ'), ('line', 'NN'), ('of', 'IN'), ('gin', 'JJ'), ('machinery', 'NN'), ('all', 'DT'), ('over', 'IN'), ('the', 'DT'), ('cotton-growing', 'JJ'), ('world', 'NN'), ('.', '.')]\n",
      "[('Hardwicke-Etter', 'NNP'), ('Co.', 'NNP'), ('of', 'IN'), ('Sherman', 'NNP'), ('makes', 'VBZ'), ('a', 'DT'), ('full', 'JJ'), ('line', 'NN'), ('of', 'IN'), ('gin', 'JJ'), ('machinery', 'NN'), ('and', 'CC'), ('equipment', 'NN'), ('.', '.')]\n",
      "[('The', 'DT'), ('firm', 'NN'), ('recently', 'RB'), ('expanded', 'VBD'), ('domestic', 'JJ'), ('sales', 'NNS'), ('into', 'IN'), ('the', 'DT'), ('Southeastern', 'NNP'), ('states', 'NNS'), ('as', 'IN'), ('a', 'DT'), ('result', 'NN'), ('of', 'IN'), ('an', 'DT'), ('agreement', 'NN'), ('with', 'IN'), ('Cen-Tennial', 'NNP'), ('Gin', 'NNP'), ('Co.', 'NNP'), ('.', '.')]\n",
      "[('They', 'PRP'), ('export', 'VBP'), ('also', 'RB'), ('.', '.')]\n",
      "[('The', 'DT'), ('company', 'NN'), ('began', 'VBD'), ('operation', 'NN'), ('in', 'IN'), ('1900', 'CD'), ('with', 'IN'), ('hardware', 'NN'), ('and', 'CC'), ('oil', 'NN'), ('mill', 'NN'), ('supplies', 'NNS'), ('.', '.')]\n",
      "[('In', 'IN'), ('1930', 'CD'), (',', ','), ('they', 'PRP'), ('began', 'VBD'), ('making', 'VBG'), ('cotton', 'NN'), ('processing', 'NN'), ('equipment', 'NN'), ('.', '.')]\n",
      "[('Presently', 'RB'), (',', ','), ('Hardwicke-Etter', 'NNP'), ('employs', 'VBZ'), ('300-450', 'JJ'), ('people', 'NNS'), (',', ','), ('depending', 'VBG'), ('on', 'IN'), ('the', 'DT'), ('season', 'NN'), ('of', 'IN'), ('the', 'DT'), ('year', 'NN'), ('.', '.')]\n",
      "[('The', 'DT'), ('Lummus', 'NNP'), ('Cotton', 'NNP'), ('Gin', 'NNP'), ('Co.', 'NNP'), ('has', 'VBZ'), ('had', 'VBD'), ('a', 'DT'), ('sales', 'NNS'), ('and', 'CC'), ('service', 'NN'), ('office', 'NN'), ('in', 'IN'), ('Dallas', 'NNP'), ('since', 'IN'), ('1912', 'CD'), ('.', '.')]\n",
      "[('Factory', 'NN'), ('operations', 'NNS'), ('are', 'VBP'), ('in', 'IN'), ('Columbus', 'NNP'), (',', ','), ('Ga.', 'NNP'), ('.', '.')]\n",
      "[('The', 'DT'), ('district', 'NN'), ('office', 'NN'), ('here', 'RB'), ('employs', 'VBZ'), ('about', 'IN'), ('65', 'CD'), ('.', '.')]\n",
      "[('The', 'DT'), ('Moss', 'NNP'), ('Gordin', 'NNP'), ('Lint', 'NNP'), ('Cleaner', 'NNP'), ('Co.', 'NNP'), ('and', 'CC'), ('Gordin', 'NNP'), ('Unit', 'NNP'), ('System', 'NNP'), ('of', 'IN'), ('Ginning', 'VBG'), ('have', 'VBP'), ('joint', 'JJ'), ('headquarters', 'NNS'), ('here', 'RB'), ('.', '.')]\n",
      "[('The', 'DT'), ('cleaner', 'NN'), ('equipment', 'NN'), ('firm', 'NN'), ('began', 'VBD'), ('operations', 'NNS'), ('in', 'IN'), ('1953', 'CD'), ('and', 'CC'), ('the', 'DT'), ('unit', 'NN'), ('system', 'NN'), (',', ','), ('which', 'WDT'), ('turns', 'VBZ'), ('out', 'RP'), ('a', 'DT'), ('complete', 'JJ'), ('ginning', 'NN'), ('system', 'NN'), (',', ','), ('began', 'VBD'), ('operations', 'NNS'), ('in', 'IN'), ('1959', 'CD'), ('.', '.')]\n",
      "[('Gordin', 'NNP'), ('manufacturing', 'NN'), ('operations', 'NNS'), ('are', 'VBP'), ('in', 'IN'), ('Lubbock', 'NNP'), ('.', '.')]\n",
      "[('The', 'DT'), ('John', 'NNP'), ('E.', 'NNP'), ('Mitchell', 'NNP'), ('Co.', 'NNP'), ('began', 'VBD'), ('work', 'NN'), ('in', 'IN'), ('Dallas', 'NNP'), ('in', 'IN'), ('1928', 'CD'), ('.', '.')]\n",
      "[('The', 'DT'), ('firm', 'NN'), ('is', 'VBZ'), ('prominent', 'JJ'), ('in', 'IN'), ('making', 'VBG'), ('equipment', 'NN'), ('for', 'IN'), ('cleaning', 'VBG'), ('seed', 'NN'), ('cotton', 'NN'), (',', ','), ('driers', 'NNS'), (',', ','), ('and', 'CC'), ('heaters', 'NNS'), (',', ','), ('and', 'CC'), ('they', 'PRP'), ('lay', 'VBD'), ('claim', 'NN'), ('to', 'TO'), ('being', 'VBG'), ('the', 'DT'), ('first', 'JJ'), ('maker', 'NN'), ('(', '('), ('1910', 'CD'), (')', ')'), ('of', 'IN'), ('boil', 'NN'), ('extraction', 'NN'), ('equipment', 'NN'), ('.', '.')]\n",
      "[('The', 'DT'), ('increase', 'NN'), ('in', 'IN'), ('mechanical', 'JJ'), ('harvesting', 'NN'), ('of', 'IN'), ('cotton', 'NN'), ('makes', 'VBZ'), ('cleaning', 'NN'), ('and', 'CC'), ('drying', 'VBG'), ('equipment', 'NN'), ('a', 'DT'), ('must', 'MD'), ('for', 'IN'), ('modern', 'JJ'), ('gin', 'NN'), ('operation', 'NN'), ('.', '.')]\n",
      "[('Mitchell', 'NNP'), ('employs', 'VBZ'), ('a', 'DT'), ('total', 'NN'), ('of', 'IN'), ('about', 'IN'), ('400', 'CD'), ('people', 'NNS'), ('.', '.')]\n",
      "[('They', 'PRP'), ('export', 'VBP'), ('cotton', 'NN'), ('ginning', 'VBG'), ('machinery', 'NN'), ('.', '.')]\n",
      "[('The', 'DT'), ('Hinckley', 'NNP'), ('Gin', 'NNP'), ('Supply', 'NNP'), ('Co.', 'NNP'), ('is', 'VBZ'), ('a', 'DT'), ('maker', 'NN'), ('of', 'IN'), ('``', '``'), ('overhead', 'JJ'), ('equipment', 'NN'), ('``', '``'), ('.', '.')]\n",
      "[('This', 'DT'), ('includes', 'VBZ'), ('driers', 'NNS'), (',', ','), ('cleaners', 'NNS'), (',', ','), ('burr', 'NN'), ('extractors', 'NNS'), (',', ','), ('separators', 'NNS'), ('and', 'CC'), ('piping', 'VBG'), ('that', 'DT'), (\"'s\", 'VBZ'), ('located', 'VBN'), ('above', 'IN'), ('gin', 'NN'), ('stands', 'NNS'), ('in', 'IN'), ('a', 'DT'), ('complete', 'JJ'), ('gin', 'NN'), ('.', '.')]\n",
      "[('The', 'DT'), ('firm', 'NN'), ('began', 'VBD'), ('operations', 'NNS'), ('back', 'RB'), ('in', 'IN'), ('1925', 'CD'), ('and', 'CC'), ('sells', 'VBZ'), ('equipment', 'NN'), ('in', 'IN'), ('the', 'DT'), ('central', 'JJ'), ('cotton', 'NN'), ('belt', 'NN'), (',', ','), ('including', 'VBG'), ('the', 'DT'), ('Mississippi', 'NNP'), ('Delta', 'NNP'), ('.', '.')]\n",
      "[('The', 'DT'), ('Cen-Tennial', 'JJ'), ('Gin', 'NNP'), ('Supply', 'NNP'), ('Co.', 'NNP'), ('has', 'VBZ'), ('home', 'VBN'), ('offices', 'NNS'), ('and', 'CC'), ('factory', 'NN'), ('facilities', 'NNS'), ('here', 'RB'), ('.', '.')]\n",
      "[('They', 'PRP'), ('make', 'VBP'), ('gin', 'JJ'), ('saws', 'NNS'), ('and', 'CC'), ('deal', 'NN'), ('in', 'IN'), ('parts', 'NNS'), (',', ','), ('supplies', 'NNS'), ('and', 'CC'), ('some', 'DT'), ('used', 'JJ'), ('gin', 'NN'), ('machinery', 'NN'), ('.', '.')]\n",
      "[('The', 'DT'), ('Stacy', 'NNP'), ('Co.', 'NNP'), ('makes', 'VBZ'), ('cleaning', 'NN'), ('and', 'CC'), ('drying', 'NN'), ('equipment', 'NN'), ('for', 'IN'), ('sale', 'NN'), ('largely', 'RB'), ('in', 'IN'), ('Texas', 'NNP'), ('.', '.')]\n",
      "[('They', 'PRP'), (\"'ve\", 'VBP'), ('been', 'VBN'), ('in', 'IN'), ('Dallas', 'NNP'), ('since', 'IN'), ('1921', 'CD'), ('.', '.')]\n",
      "[('Cotton', 'NNP'), ('Belt', 'NNP'), ('Gin', 'NNP'), ('Service', 'NNP'), (',', ','), ('Inc.', 'NNP'), ('of', 'IN'), ('Dallas', 'NNP'), ('makes', 'VBZ'), ('gin', 'NN'), ('saws', 'NNS'), ('and', 'CC'), ('started', 'VBD'), ('here', 'RB'), ('14', 'CD'), ('years', 'NNS'), ('ago', 'RB'), ('.', '.')]\n",
      "[('They', 'PRP'), ('distribute', 'VBP'), ('equipment', 'NN'), ('in', 'IN'), ('11', 'CD'), ('states', 'NNS'), ('.', '.')]\n",
      "[('The', 'DT'), ('firm', 'NN'), ('also', 'RB'), ('handles', 'VBZ'), ('gin', 'NN'), ('and', 'CC'), ('oil', 'NN'), ('mill', 'NN'), ('supplies', 'NNS'), ('such', 'JJ'), ('as', 'IN'), ('belting', 'NN'), (',', ','), ('bearings', 'NNS'), (',', ','), ('etc', 'FW'), ('.', '.')]\n",
      "[('.', '.')]\n",
      "[('Cotton', 'NN'), ('processing', 'NN'), ('equipment', 'NN'), ('is', 'VBZ'), ('a', 'DT'), ('sizable', 'JJ'), ('segment', 'NN'), ('of', 'IN'), ('Dallas', 'NNP'), ('business', 'NN'), ('economy', 'NN'), ('.', '.')]\n",
      "[('New', 'NNP'), ('car', 'NN'), ('sales', 'NNS'), ('in', 'IN'), ('Dallas', 'NNP'), ('County', 'NNP'), ('during', 'IN'), ('March', 'NNP'), ('showed', 'VBD'), ('slight', 'JJ'), ('signs', 'NNS'), ('of', 'IN'), ('recovering', 'VBG'), ('from', 'IN'), ('the', 'DT'), ('doldrums', 'NN'), ('which', 'WDT'), ('have', 'VBP'), ('characterized', 'VBN'), ('sales', 'NNS'), ('this', 'DT'), ('year', 'NN'), ('.', '.')]\n",
      "[('Registrations', 'NNS'), ('of', 'IN'), ('new', 'JJ'), ('cars', 'NNS'), ('in', 'IN'), ('Dallas', 'NNP'), ('County', 'NNP'), ('cracked', 'VBD'), ('the', 'DT'), ('3,000', 'CD'), ('mark', 'NN'), ('in', 'IN'), ('March', 'NNP'), ('for', 'IN'), ('the', 'DT'), ('first', 'JJ'), ('time', 'NN'), ('this', 'DT'), ('year', 'NN'), ('.', '.')]\n"
     ]
    },
    {
     "name": "stdout",
     "output_type": "stream",
     "text": [
      "[('Totaling', 'VBG'), ('3,399', 'CD'), (',', ','), ('sales', 'NNS'), ('jumped', 'VBD'), ('14', 'CD'), ('per', 'IN'), ('cent', 'NN'), ('over', 'IN'), ('February', 'NNP'), (\"'s\", 'POS'), ('2,963', 'CD'), ('.', '.')]\n",
      "[('However', 'RB'), (',', ','), ('compared', 'VBN'), ('with', 'IN'), ('March', 'NNP'), ('1960', 'CD'), ('new', 'JJ'), ('car', 'NN'), ('sales', 'NNS'), ('of', 'IN'), ('4,441', 'CD'), (',', ','), ('this', 'DT'), ('March', 'NNP'), ('was', 'VBD'), ('off', 'RB'), ('23', 'CD'), ('per', 'IN'), ('cent', 'NN'), ('.', '.')]\n",
      "[('On', 'IN'), ('a', 'DT'), ('quarter-to-quarter', 'JJ'), ('comparison', 'NN'), (',', ','), ('the', 'DT'), ('first', 'JJ'), ('quarter', 'NN'), ('of', 'IN'), ('1961', 'CD'), ('total', 'NN'), ('of', 'IN'), ('9,273', 'CD'), ('cars', 'NNS'), ('was', 'VBD'), ('21', 'CD'), ('per', 'IN'), ('cent', 'NN'), ('behind', 'IN'), ('the', 'DT'), ('previous', 'JJ'), ('year', 'NN'), (\"'s\", 'POS'), ('3-month', 'JJ'), ('total', 'NN'), ('of', 'IN'), ('11,744', 'CD'), ('.', '.')]\n",
      "[('This', 'DT'), ('year-to-year', 'JJ'), ('decline', 'NN'), ('for', 'IN'), ('Dallas', 'NNP'), ('County', 'NNP'), ('closely', 'RB'), ('follows', 'VBZ'), ('the', 'DT'), ('national', 'JJ'), ('trend', 'NN'), ('--', ':'), ('estimated', 'VBD'), ('sales', 'NNS'), ('of', 'IN'), ('domestic', 'JJ'), ('cars', 'NNS'), ('in', 'IN'), ('the', 'DT'), ('U.S.', 'NNP'), ('for', 'IN'), ('first', 'JJ'), ('three', 'CD'), ('months', 'NNS'), ('of', 'IN'), ('1961', 'CD'), ('were', 'VBD'), ('about', 'RB'), ('1,212,000', 'CD'), ('or', 'CC'), ('80', 'CD'), ('per', 'IN'), ('cent', 'NN'), ('of', 'IN'), ('the', 'DT'), ('total', 'NN'), ('in', 'IN'), ('the', 'DT'), ('first', 'JJ'), ('quarter', 'NN'), ('a', 'DT'), ('year', 'NN'), ('earlier', 'RBR'), ('.', '.')]\n",
      "[('With', 'IN'), ('the', 'DT'), ('March', 'NNP'), ('pickup', 'NN'), (',', ','), ('dealers', 'NNS'), ('are', 'VBP'), ('optimistic', 'JJ'), ('that', 'IN'), ('the', 'DT'), ('April-June', 'NNP'), ('quarter', 'NN'), ('will', 'MD'), ('equal', 'VB'), ('or', 'CC'), ('top', 'VB'), ('last', 'JJ'), ('year', 'NN'), ('.', '.')]\n",
      "[('The', 'DT'), ('March', 'NNP'), ('gain', 'NN'), ('plus', 'CC'), ('this', 'DT'), ('optimism', 'NN'), ('has', 'VBZ'), ('been', 'VBN'), ('encouraging', 'VBG'), ('enough', 'JJ'), ('to', 'TO'), ('prompt', 'VB'), ('auto', 'NN'), ('makers', 'NNS'), ('to', 'TO'), ('boost', 'VB'), ('production', 'NN'), ('schedules', 'NNS'), ('for', 'IN'), ('the', 'DT'), ('next', 'JJ'), ('quarter', 'NN'), ('.', '.')]\n",
      "[('On', 'IN'), ('the', 'DT'), ('local', 'JJ'), ('level', 'NN'), (',', ','), ('compacts', 'NNS'), ('continue', 'VBP'), ('to', 'TO'), ('grab', 'VB'), ('a', 'DT'), ('larger', 'JJR'), ('share', 'NN'), ('of', 'IN'), ('the', 'DT'), ('market', 'NN'), ('at', 'IN'), ('the', 'DT'), ('expense', 'NN'), ('of', 'IN'), ('lower-priced', 'JJ'), ('standard', 'NN'), ('models', 'NNS'), ('and', 'CC'), ('foreign', 'JJ'), ('cars', 'NNS'), ('.', '.')]\n",
      "[('Only', 'RB'), ('three', 'CD'), ('standard', 'JJ'), ('models', 'NNS'), ('--', ':'), ('Buick', 'NNP'), (',', ','), ('Chrysler', 'NNP'), (',', ','), ('and', 'CC'), ('Mercury', 'NNP'), ('--', ':'), ('had', 'VBD'), ('slight', 'JJ'), ('year-to-year', 'JJ'), ('gains', 'NNS'), ('in', 'IN'), ('March', 'NNP'), ('sales', 'NNS'), ('in', 'IN'), ('the', 'DT'), ('county', 'NN'), ('.', '.')]\n",
      "[('The', 'DT'), ('top', 'JJ'), ('3', 'CD'), ('students', 'NNS'), ('from', 'IN'), ('11', 'CD'), ('participating', 'VBG'), ('Dallas', 'NNP'), ('County', 'NNP'), ('high', 'JJ'), ('schools', 'NNS'), ('will', 'MD'), ('be', 'VB'), ('honored', 'VBN'), ('by', 'IN'), ('the', 'DT'), ('Dallas', 'NNP'), ('Sales', 'NNS'), ('Executives', 'VBZ'), ('Club', 'NNP'), ('at', 'IN'), ('a', 'DT'), ('banquet', 'NN'), ('at', 'IN'), ('6', 'CD'), ('p.m.', 'NN'), ('Tuesday', 'NNP'), ('in', 'IN'), ('the', 'DT'), ('Sam', 'NNP'), ('Houston', 'NNP'), ('Room', 'NNP'), ('of', 'IN'), ('the', 'DT'), ('Sheraton-Dallas', 'JJ'), ('Hotel', 'NNP'), ('as', 'IN'), ('the', 'DT'), ('club', 'NN'), ('winds', 'VBZ'), ('up', 'RP'), ('its', 'PRP$'), ('annual', 'JJ'), ('Distributive', 'NNP'), ('Education', 'NNP'), ('project', 'NN'), ('.', '.')]\n",
      "[('Now', 'RB'), ('in', 'IN'), ('its', 'PRP$'), ('third', 'JJ'), ('year', 'NN'), (',', ','), ('the', 'DT'), ('program', 'NN'), ('is', 'VBZ'), ('designed', 'VBN'), ('to', 'TO'), ('provide', 'VB'), ('a', 'DT'), ('laboratory', 'NN'), ('for', 'IN'), ('those', 'DT'), ('youngsters', 'NNS'), ('seeking', 'VBG'), ('careers', 'NNS'), ('in', 'IN'), ('marketing', 'NN'), ('and', 'CC'), ('salesmanship', 'NN'), ('.', '.')]\n",
      "[('Business', 'NN'), ('firms', 'NNS'), ('provide', 'VBP'), ('20', 'CD'), ('weeks', 'NNS'), ('of', 'IN'), ('practical', 'JJ'), ('employment', 'NN'), ('to', 'TO'), ('supplement', 'VB'), ('classroom', 'NN'), ('instruction', 'NN'), ('in', 'IN'), ('these', 'DT'), ('fields', 'NNS'), ('.', '.')]\n",
      "[('More', 'JJR'), ('than', 'IN'), ('500', 'CD'), ('juniors', 'NNS'), ('and', 'CC'), ('seniors', 'NNS'), ('are', 'VBP'), ('taking', 'VBG'), ('part', 'NN'), ('in', 'IN'), ('the', 'DT'), ('program', 'NN'), ('and', 'CC'), ('100', 'CD'), ('firms', 'NNS'), ('offer', 'VBP'), ('jobs', 'NNS'), ('on', 'IN'), ('an', 'DT'), ('educational', 'JJ'), ('rather', 'RB'), ('than', 'IN'), ('a', 'DT'), ('need', 'JJ'), ('basis', 'NN'), ('.', '.')]\n",
      "[('Principal', 'NNP'), ('address', 'NN'), ('will', 'MD'), ('be', 'VB'), ('delivered', 'VBN'), ('by', 'IN'), ('Gerald', 'NNP'), ('T.', 'NNP'), ('Owens', 'NNP'), (',', ','), ('national', 'JJ'), ('sales', 'NNS'), ('manager', 'NN'), ('for', 'IN'), ('Isodine', 'NNP'), ('Pharmical', 'NNP'), ('Corp.', 'NNP'), ('of', 'IN'), ('New', 'NNP'), ('York', 'NNP'), ('.', '.')]\n",
      "[('The', 'DT'), ('33', 'CD'), ('honored', 'JJ'), ('students', 'NNS'), ('are', 'VBP'), (':', ':'), ('Mike', 'NNP'), ('Trigg', 'NNP'), (',', ','), ('Raymond', 'NNP'), ('Arrington', 'NNP'), (',', ','), ('and', 'CC'), ('Ronald', 'NNP'), ('Kaminsky', 'NNP'), ('of', 'IN'), ('Bryan', 'NNP'), ('Adams', 'NNP'), (',', ','), ('Janice', 'NNP'), ('Whitney', 'NNP'), (',', ','), ('Fil', 'NNP'), ('Terral', 'NNP'), (',', ','), ('and', 'CC'), ('Carl', 'NNP'), ('David', 'NNP'), ('Page', 'NNP'), ('of', 'IN'), ('W.', 'NNP'), ('H.', 'NNP'), ('Adamson', 'NNP'), (';', ':'), (';', ':'), ('Bill', 'NNP'), ('Burke', 'NNP'), (',', ','), ('Tommie', 'NNP'), ('Freeman', 'NNP'), (',', ','), ('and', 'CC'), ('Lawrence', 'NNP'), ('Paschall', 'NNP'), ('of', 'IN'), ('N.', 'NNP'), ('R.', 'NNP'), ('Crozier', 'NNP'), ('Tech', 'NNP'), ('.', '.')]\n",
      "[('Paulah', 'NNP'), ('Thompson', 'NNP'), (',', ','), ('Gerald', 'NNP'), ('Kestner', 'NNP'), (',', ','), ('and', 'CC'), ('Nancy', 'NNP'), ('Stephenson', 'NNP'), ('of', 'IN'), ('Hillcrest', 'NNP'), (';', ':'), (';', ':'), ('Arnold', 'NNP'), ('Hayes', 'NNP'), (',', ','), ('Mary', 'NNP'), ('Ann', 'NNP'), ('Shay', 'NNP'), (',', ','), ('and', 'CC'), ('Lloyd', 'NNP'), ('Satterfield', 'NNP'), ('of', 'IN'), ('Thomas', 'NNP'), ('Jefferson', 'NNP'), (';', ':'), (';', ':'), ('William', 'NNP'), ('Cluck', 'NNP'), (',', ','), ('Deloris', 'NNP'), ('Carrel', 'NNP'), ('Carty', 'NNP'), (',', ','), ('and', 'CC'), ('Edna', 'NNP'), ('Earl', 'NNP'), ('Eaton', 'NNP'), ('of', 'IN'), ('North', 'NNP'), ('Dallas', 'NNP'), (';', ':'), (';', ':'), ('Patricia', 'NNP'), ('Ann', 'NNP'), ('Neal', 'NNP'), (',', ','), ('Johnny', 'NNP'), ('Carruthers', 'NNP'), (',', ','), ('and', 'CC'), ('David', 'NNP'), ('McLauchlin', 'NNP'), ('of', 'IN'), ('Rylie', 'NNP'), ('of', 'IN'), ('Seagoville', 'NNP'), (';', ':'), (';', ':'), ('David', 'NNP'), ('Wolverton', 'NNP'), (',', ','), ('Sharon', 'NNP'), ('Flanagan', 'NNP'), (',', ','), ('and', 'CC'), ('James', 'NNP'), ('Weaver', 'NNP'), ('of', 'IN'), ('W.', 'NNP'), ('W.', 'NNP'), ('Samuels', 'NNP'), (';', ':'), (';', ':'), ('William', 'NNP'), ('Austin', 'NNP'), (',', ','), ('Gary', 'NNP'), ('Hammond', 'NNP'), (',', ','), ('and', 'CC'), ('Ronnie', 'NNP'), ('Davis', 'NNP'), ('of', 'IN'), ('South', 'NNP'), ('Oak', 'NNP'), ('Cliff', 'NNP'), (';', ':'), (';', ':'), ('Bill', 'NNP'), ('Eaton', 'NNP'), (',', ','), ('Carolyn', 'NNP'), ('Milton', 'NNP'), (',', ','), ('and', 'CC'), ('Ronnie', 'NNP'), ('Bert', 'NNP'), ('Stone', 'NNP'), ('of', 'IN'), ('Sunset', 'NNP'), (';', ':'), (';', ':'), ('and', 'CC'), ('Charles', 'NNP'), ('Potter', 'NNP'), (',', ','), ('Ronnie', 'NNP'), ('Moore', 'NNP'), (',', ','), ('and', 'CC'), ('Robert', 'NNP'), ('Bailey', 'NNP'), ('of', 'IN'), ('Woodrow', 'NNP'), ('Wilson', 'NNP'), ('.', '.')]\n",
      "[('The', 'DT'), ('Kennedy', 'NNP'), ('administration', 'NN'), (\"'s\", 'POS'), ('new', 'JJ'), ('housing', 'NN'), ('and', 'CC'), ('urban', 'JJ'), ('renewal', 'NN'), ('proposals', 'NNS'), (',', ','), ('particularly', 'RB'), ('their', 'PRP$'), ('effect', 'NN'), ('on', 'IN'), ('the', 'DT'), ('Federal', 'NNP'), ('Housing', 'NNP'), ('Administration', 'NNP'), (',', ','), ('came', 'VBD'), ('under', 'IN'), ('fire', 'NN'), ('in', 'IN'), ('Dallas', 'NNP'), ('last', 'JJ'), ('week', 'NN'), ('.', '.')]\n",
      "[('The', 'DT'), ('Administration', 'NNP'), (\"'s\", 'POS'), ('proposals', 'NNS'), (',', ','), ('complex', 'JJ'), ('and', 'CC'), ('sweeping', 'VBG'), ('as', 'IN'), ('they', 'PRP'), ('are', 'VBP'), (',', ','), ('all', 'DT'), ('deal', 'NN'), ('with', 'IN'), ('fringe', 'JJ'), ('areas', 'NNS'), ('of', 'IN'), ('the', 'DT'), ('housing', 'NN'), ('market', 'NN'), ('rather', 'RB'), ('than', 'IN'), ('its', 'PRP$'), ('core', 'NN'), (',', ','), ('stated', 'VBN'), ('Caron', 'NNP'), ('S.', 'NNP'), ('Stallard', 'NNP'), (',', ','), ('first', 'JJ'), ('vice-president', 'NN'), ('of', 'IN'), ('the', 'DT'), ('Mortgage', 'NNP'), ('Bankers', 'NNP'), ('Association', 'NNP'), ('of', 'IN'), ('America', 'NNP'), ('.', '.')]\n"
     ]
    }
   ],
   "source": [
    "\n",
    "#word tokenization and tagging\n",
    "tokens=[]\n",
    "from nltk.stem import PorterStemmer\n",
    "stemmer = PorterStemmer()\n",
    "for sentence in words:\n",
    "        words1 = nltk.word_tokenize(sentence)\n",
    "        #tokenizedwords=stemmer.stem(words)\n",
    "        tokens.append(words1)\n",
    "        tokenizedwords=nltk.pos_tag(words1)\n",
    "        print(tokenizedwords)"
   ]
  },
  {
   "cell_type": "code",
   "execution_count": 19,
   "metadata": {},
   "outputs": [
    {
     "name": "stdout",
     "output_type": "stream",
     "text": [
      "Stemmed document:\n",
      "\n",
      "probabl the hottest thing that ha hit the dalla invest commun in year wa the morton food stock issu , which wa sold to the public dure the past week . for mani reason , the demand to buy share in the dallas-headquart compani wa tremend . It wa not a case of the invest banker have to sell the stock ; ; it wa more one of allot a few share to a number of custom and explain to other whi they had no more to sell . investor who want 100 share in mani case end up with 25 , and custom who had put in a bid to buy 400 share found themselv with 100 and count themselv lucki to get that mani . In fact , veri few custom , anywher in the nation , were abl to get more than 100 share . some dalla invest firm got onli 100 share , for all of their custom . A measur of how hot the stock wa , can be found in what happen to it on the market as soon as trade began . the stock wa sold in the underwrit at a price of $12.50 a share . the first over-the-count trade wednesday afternoon at eppler , guerin & turner , the manag underwrit , wa at $17 a share . and from that the stock move right on up until it wa trade thursday morn at around $22 a share . but the morton food issu wa hot long befor it wa on the market . inde , from the moment the report of the come issu first start circul in dalla last januari , the inquiri and demand for the stock start build up . letter by the ream came in from invest firm all over the nation , all of them want to get a part of the share that would be sold ( 185,000 to the public at $12.50 , with anoth 5,000 reserv for morton food employ at $11.50 a share ) . there wa even a cabl in french from a bank in switzerland that had somehow learn about the dalla stock offer . `` We subscrib 500 share of morton food of texa . cabl confirm '' , it said translat . but e.g.t. could not let the swiss bank have even 10 share . after it allot share to 41 underwrit and 52 sell group member from coast to coast there were not mani share for anyon . but the result of it all wa , e.g.t. partner dean guerin believ , an effect distribut of the stock to owner all over the nation . `` I feel confid the stock will qualifi for the ' nation list ' '' , he said , mean it market price would be quot regularli in newspap all over the countri . He wa also pleas with the wide distribut becaus he thought it prove again hi argument that dalla invest men can do just as good a job as the big new york invest banker claim onli they can do . but what made the morton food stock issu such a hot one ? ? the answer is that it wa a combin of circumst . first , the gener stock market ha been boil upward for the last few month , drive stock of all kind up . As a result , it is not easi to find a stock price as the morton issu wa price ( at roughli 10 time 1960 earn , to yield a littl over 5 per cent on the 64-cent anticip dividend ) . second , the `` potato chip industri '' ha caught the fanci of investor late , and until morton food came along there were onli two potato chip stock -- frito and H. W. lay -- on the market . both of those have had dynam run-up in price on the market in recent month , both were sell at higher price-earn and yield base than morton wa come to market at , and everyon who knew anyth about it expect the morton stock to have a fast run-up . and third , the potato chip industri ha taken on the flavor of a `` growth '' industri in the public mind of late . food , which long had been consid `` recess resist '' but hardli dynam stock , have been act like growth stock , go to higher price-earn ratio . the potato chip industri these day is grow , not onli as a result of popul increas and public accept of conveni food , but also becaus of a combin of circumst that ha led to growth by merger . the histori of the u.s. potato chip industri is that mani of today' success compani got start dure the deep depress day . those that remain are those that were head by strong execut , men with the abil to last almost 30 year in the competit surviv of the fittest . but today mani of those men are reach retir age and suddenli realiz that they face an estat tax problem with their close held compani and also that they have no second-echelon manag in their firm . So they go look for merger with other firm that have publicli quot stock , and almost daili they pound on the door of firm like frito . all those thing combin to make the morton food stock the hot issu that it wa and is . now , if morton' newest product , a corn chip known as chip-o' , turn out to sell as well as it stock did , the stock may turn out to be worth everi cent of the price that the avid buyer bid it up to . dalla and north texa is known world-wid as the manufactur and distribut center of cotton gin machineri and suppli , valu in the million of dollar . more than 10 compani maintain facil in dalla and one larg manufactur is locat to the north at sherman . It is no coincid that the texa cotton ginner' associ is meet here thi week for the 46th time in their 52-year histori . the exhibit of cotton gin machineri at the state fair ground is valu at more than a million dollar . It weigh in the ton , so the proxim of factori and exhibit area make it possibl for an outstand exhibit each year . A modern cotton gin plant cost in the neighborhood of $250,000 , and it' a safe assumpt that a larg percentag of new gin in the u.s. and foreign countri contain machineri made in thi area . the murray co. of texa , inc. , origin in dalla in 1896 . they'v occupi a 22-acr site sinc the earli 1900' . more than 700 employe make gin machineri that' sold anywher cotton is grown . murray make a complet line of gin equip except for drier and cleaner , and thi machineri is purchas from a dallas-bas firm . the continent gin co. began oper in dalla in 1899 . the present compani is a combin of sever smaller one that date back to 1834 . headquart is in birmingham , ala. . factori are locat here and in prattvil , ala. . about 40 per cent of the manufactur is done at the dalla plant by more than 200 employ . the compani sell a complet line of gin machineri all over the cotton-grow world . hardwicke-ett co. of sherman make a full line of gin machineri and equip . the firm recent expand domest sale into the southeastern state as a result of an agreement with cen-tenni gin co. . they export also . the compani began oper in 1900 with hardwar and oil mill suppli . In 1930 , they began make cotton process equip . present , hardwicke-ett employ 300-450 peopl , depend on the season of the year . the lummu cotton gin co. ha had a sale and servic offic in dalla sinc 1912 . factori oper are in columbu , ga. . the district offic here employ about 65 . the moss gordin lint cleaner co. and gordin unit system of gin have joint headquart here . the cleaner equip firm began oper in 1953 and the unit system , which turn out a complet gin system , began oper in 1959 . gordin manufactur oper are in lubbock . the john E. mitchel co. began work in dalla in 1928 . the firm is promin in make equip for clean seed cotton , drier , and heater , and they lay claim to be the first maker ( 1910 ) of boil extract equip . the increas in mechan harvest of cotton make clean and dri equip a must for modern gin oper . mitchel employ a total of about 400 peopl . they export cotton gin machineri . the hinckley gin suppli co. is a maker of `` overhead equip '' . thi includ drier , cleaner , burr extractor , separ and pipe that' locat abov gin stand in a complet gin . the firm began oper back in 1925 and sell equip in the central cotton belt , includ the mississippi delta . the cen-tenni gin suppli co. ha home offic and factori facil here . they make gin saw and deal in part , suppli and some use gin machineri . the staci co. make clean and dri equip for sale larg in texa . they'v been in dalla sinc 1921 . cotton belt gin servic , inc. of dalla make gin saw and start here 14 year ago . they distribut equip in 11 state . the firm also handl gin and oil mill suppli such as belt , bear , etc. . cotton process equip is a sizabl segment of dalla busi economi . new car sale in dalla counti dure march show slight sign of recov from the doldrum which have character sale thi year . registr of new car in dalla counti crack the 3,000 mark in march for the first time thi year . total 3,399 , sale jump 14 per cent over february' 2,963 . howev , compar with march 1960 new car sale of 4,441 , thi march wa off 23 per cent . On a quarter-to-quart comparison , the first quarter of 1961 total of 9,273 car wa 21 per cent behind the previou year' 3-month total of 11,744 . thi year-to-year declin for dalla counti close follow the nation trend -- estim sale of domest car in the u.s. for first three month of 1961 were about 1,212,000 or 80 per cent of the total in the first quarter a year earlier . with the march pickup , dealer are optimist that the april-jun quarter will equal or top last year . the march gain plu thi optim ha been encourag enough to prompt auto maker to boost product schedul for the next quarter . On the local level , compact continu to grab a larger share of the market at the expens of lower-pr standard model and foreign car . onli three standard model -- buick , chrysler , and mercuri -- had slight year-to-year gain in march sale in the counti . the top 3 student from 11 particip dalla counti high school will be honor by the dalla sale execut club at a banquet at 6 p.m. tuesday in the sam houston room of the sheraton-dalla hotel as the club wind up it annual distribut educ project . now in it third year , the program is design to provid a laboratori for those youngster seek career in market and salesmanship . busi firm provid 20 week of practic employ to supplement classroom instruct in these field . more than 500 junior and senior are take part in the program and 100 firm offer job on an educ rather than a need basi . princip address will be deliv by gerald T. owen , nation sale manag for isodin pharmic corp. of new york . the 33 honor student are : mike trigg , raymond arrington , and ronald kaminski of bryan adam , janic whitney , fil terral , and carl david page of W. H. adamson ; ; bill burk , tommi freeman , and lawrenc paschal of N. R. crozier tech. paulah thompson , gerald kestner , and nanci stephenson of hillcrest ; ; arnold hay , mari ann shay , and lloyd satterfield of thoma jefferson ; ; william cluck , delori carrel carti , and edna earl eaton of north dalla ; ; patricia ann neal , johnni carruth , and david mclauchlin of ryli of seagovil ; ; david wolverton , sharon flanagan , and jame weaver of W. W. samuel ; ; william austin , gari hammond , and ronni davi of south oak cliff ; ; bill eaton , carolyn milton , and ronni bert stone of sunset ; ; and charl potter , ronni moor , and robert bailey of woodrow wilson . the kennedi administration' new hous and urban renew propos , particularli their effect on the feder hous administr , came under fire in dalla last week . the administration' propos , complex and sweep as they are , all deal with fring area of the hous market rather than it core , state caron S. stallard , first vice-presid of the mortgag banker associ of america .\n"
     ]
    }
   ],
   "source": [
    "#stemming the document-identifying stemms\n",
    "from nltk.stem import PorterStemmer\n",
    "stemmer = PorterStemmer()\n",
    "stemmedwords = [stemmer.stem(token) for token in str.split(\" \")]\n",
    "print(\"Stemmed document:\\n\")\n",
    "print(\" \".join(stemmedwords))"
   ]
  },
  {
   "cell_type": "code",
   "execution_count": 20,
   "metadata": {},
   "outputs": [
    {
     "data": {
      "text/plain": [
       "['▁தங்களது', '▁பெயர்', '▁என்ன', '?']"
      ]
     },
     "execution_count": 20,
     "metadata": {},
     "output_type": "execute_result"
    }
   ],
   "source": [
    "from inltk.inltk import tokenize\n",
    "\n",
    "tokenize('தங்களது பெயர் என்ன?','ta')"
   ]
  },
  {
   "cell_type": "markdown",
   "metadata": {},
   "source": [
    "Tokenizing the sentence in Tamil"
   ]
  },
  {
   "cell_type": "code",
   "execution_count": null,
   "metadata": {},
   "outputs": [],
   "source": []
  }
 ],
 "metadata": {
  "kernelspec": {
   "display_name": "Python 3",
   "language": "python",
   "name": "python3"
  },
  "language_info": {
   "codemirror_mode": {
    "name": "ipython",
    "version": 3
   },
   "file_extension": ".py",
   "mimetype": "text/x-python",
   "name": "python",
   "nbconvert_exporter": "python",
   "pygments_lexer": "ipython3",
   "version": "3.7.7"
  }
 },
 "nbformat": 4,
 "nbformat_minor": 4
}
