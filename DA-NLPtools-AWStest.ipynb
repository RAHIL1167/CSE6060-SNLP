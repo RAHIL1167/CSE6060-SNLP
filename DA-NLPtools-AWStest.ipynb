{
 "cells": [
  {
   "cell_type": "markdown",
   "metadata": {},
   "source": [
    "# Sentiment Analysis using Aws Comprehend and boto3 SDK \n"
   ]
  },
  {
   "cell_type": "markdown",
   "metadata": {},
   "source": [
    "Requirements: \n",
    "We would be needing to install Amazon client first by using command “pip install awscli” on windows.\n",
    "boto3: \n",
    "\n",
    "[2]Here we can see we have imported boto3 which is Amazon web services software development kit(SDK) which lets python developers to user services related to AWS. This can be downloaded by using the command “pip install boto3” on windows.\n",
    "\n",
    "Configure:\n",
    "\n",
    "We would need to configure this by using the command “awscli configure” on windows, where we would need to set or give the access id and secret key for API call. This access id and secret key are provided to you once create an developers account on aws.amazon.com.\n",
    "\n",
    "Region name:('ap-south-1')\n",
    "\n",
    "This has to be setup inorder to avoid errors based on region. The region code which I included is for Mumbai, India.\n"
   ]
  },
  {
   "cell_type": "code",
   "execution_count": 1,
   "metadata": {},
   "outputs": [
    {
     "name": "stdout",
     "output_type": "stream",
     "text": [
      "My name is Rahil and I am pursuing my masters from VIT, Vellore. It has been a great journey so far. And hoping would end up successful in achieving my goals.\n",
      "{\n",
      "    \"ResponseMetadata\": {\n",
      "        \"HTTPHeaders\": {\n",
      "            \"content-length\": \"161\",\n",
      "            \"content-type\": \"application/x-amz-json-1.1\",\n",
      "            \"date\": \"Mon, 22 Jun 2020 08:57:45 GMT\",\n",
      "            \"x-amzn-requestid\": \"1e81ee6e-5689-4aab-8794-5e489822bc5f\"\n",
      "        },\n",
      "        \"HTTPStatusCode\": 200,\n",
      "        \"RequestId\": \"1e81ee6e-5689-4aab-8794-5e489822bc5f\",\n",
      "        \"RetryAttempts\": 0\n",
      "    },\n",
      "    \"Sentiment\": \"NEUTRAL\",\n",
      "    \"SentimentScore\": {\n",
      "        \"Mixed\": 0.00021913634554948658,\n",
      "        \"Negative\": 0.162128284573555,\n",
      "        \"Neutral\": 0.7376415133476257,\n",
      "        \"Positive\": 0.10001111775636673\n",
      "    }\n",
      "}\n",
      "End of DetectSentiment\n",
      "\n"
     ]
    }
   ],
   "source": [
    "import boto3\n",
    "import json\n",
    "\n",
    "comprehend = boto3.client(service_name='comprehend', region_name='ap-south-1')\n",
    "                \n",
    "text = \"It is raining today in Seattle\"\n",
    "\n",
    "print('My name is Rahil and I am pursuing my masters from VIT, Vellore. It has been a great journey so far. And hoping would end up successful in achieving my goals.')\n",
    "print(json.dumps(comprehend.detect_sentiment(Text=text, LanguageCode='en'), sort_keys=True, indent=4))\n",
    "print('End of DetectSentiment\\n')"
   ]
  },
  {
   "cell_type": "markdown",
   "metadata": {},
   "source": [
    "# Step by step procedure"
   ]
  },
  {
   "cell_type": "markdown",
   "metadata": {},
   "source": [
    "# This piece of code prints which is the dominant language which is being used in the sentence or paragraph and lists the types of entities in that text"
   ]
  },
  {
   "cell_type": "code",
   "execution_count": 18,
   "metadata": {},
   "outputs": [
    {
     "name": "stdout",
     "output_type": "stream",
     "text": [
      "English is the dominant language\n"
     ]
    }
   ],
   "source": [
    "plain_text = 'My name is Rahil and I am pursuing my masters from VIT, Vellore. It has been a great journey so far. And hoping would end up successful in achieving my goals.'\n",
    "\n",
    "dominant_language_response = comprehend.detect_dominant_language(\n",
    "        Text=plain_text)\n",
    "dominant_language = sorted(dominant_language_response['Languages'], key=lambda k: k['LanguageCode'])[0]['LanguageCode']\n",
    "if dominant_language not in ['en','es']:\n",
    "    dominant_language = 'en'\n",
    "else:\n",
    "    print(\"English is the dominant language\")\n",
    "    \n",
    "response = comprehend.detect_entities(\n",
    "    Text=plain_text,\n",
    "    LanguageCode=dominant_language\n",
    ")\n",
    "entites = list(set([x['Type'] for x in response['Entities']]))\n",
    "    \n"
   ]
  },
  {
   "cell_type": "markdown",
   "metadata": {},
   "source": [
    "# list of entities"
   ]
  },
  {
   "cell_type": "code",
   "execution_count": 12,
   "metadata": {},
   "outputs": [
    {
     "data": {
      "text/plain": [
       "['ORGANIZATION', 'PERSON']"
      ]
     },
     "execution_count": 12,
     "metadata": {},
     "output_type": "execute_result"
    }
   ],
   "source": [
    "entites\n"
   ]
  },
  {
   "cell_type": "markdown",
   "metadata": {},
   "source": [
    "# Keyphrases"
   ]
  },
  {
   "cell_type": "code",
   "execution_count": 13,
   "metadata": {},
   "outputs": [],
   "source": [
    "\n",
    "response_key_phrases = comprehend.detect_key_phrases(\n",
    "   Text=plain_text,\n",
    "   LanguageCode=dominant_language\n",
    ")\n",
    "key_phrases = list(set([x['Text'] for x in response_key_phrases['KeyPhrases']]))\n"
   ]
  },
  {
   "cell_type": "code",
   "execution_count": 14,
   "metadata": {},
   "outputs": [
    {
     "data": {
      "text/plain": [
       "['Rahil',\n",
       " 'VIT, Vellore',\n",
       " 'a great journey',\n",
       " 'hoping',\n",
       " 'my goals',\n",
       " 'My name',\n",
       " 'my masters']"
      ]
     },
     "execution_count": 14,
     "metadata": {},
     "output_type": "execute_result"
    }
   ],
   "source": [
    "key_phrases"
   ]
  },
  {
   "cell_type": "markdown",
   "metadata": {},
   "source": [
    "# sentiment"
   ]
  },
  {
   "cell_type": "code",
   "execution_count": 15,
   "metadata": {},
   "outputs": [],
   "source": [
    "\n",
    "response_sentiment =comprehend.detect_sentiment(\n",
    "   Text=plain_text,\n",
    "   LanguageCode=dominant_language\n",
    ")\n",
    "sentiment = response_sentiment['Sentiment']"
   ]
  },
  {
   "cell_type": "code",
   "execution_count": 16,
   "metadata": {},
   "outputs": [
    {
     "data": {
      "text/plain": [
       "'POSITIVE'"
      ]
     },
     "execution_count": 16,
     "metadata": {},
     "output_type": "execute_result"
    }
   ],
   "source": [
    "sentiment"
   ]
  },
  {
   "cell_type": "code",
   "execution_count": null,
   "metadata": {},
   "outputs": [],
   "source": []
  }
 ],
 "metadata": {
  "kernelspec": {
   "display_name": "Python 3",
   "language": "python",
   "name": "python3"
  },
  "language_info": {
   "codemirror_mode": {
    "name": "ipython",
    "version": 3
   },
   "file_extension": ".py",
   "mimetype": "text/x-python",
   "name": "python",
   "nbconvert_exporter": "python",
   "pygments_lexer": "ipython3",
   "version": "3.7.7"
  }
 },
 "nbformat": 4,
 "nbformat_minor": 4
}
